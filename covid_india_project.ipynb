{
 "cells": [
  {
   "cell_type": "code",
   "execution_count": null,
   "id": "f40c1735",
   "metadata": {},
   "outputs": [],
   "source": []
  },
  {
   "cell_type": "markdown",
   "id": "c41eb978",
   "metadata": {},
   "source": [
    "# An Examination of Vaccination and Covid-19  in India"
   ]
  },
  {
   "cell_type": "markdown",
   "id": "0f9a570a",
   "metadata": {},
   "source": [
    "# Executive Summary\n",
    "### Problem: \n",
    "Covid-19 is causing great harm to India.\n",
    "### Solution: \n",
    "Analysis of Covid-19 data across states can identify best/worst responding states, which can be used to improve vaccination, treatment, and prevention protocols. <br> <br>\n",
    "What one state is doing right can be transferred to other states. <br> <br>\n",
    "What one state is doing wrong can be prevented in other states.\n",
    "### Key Findings:\n",
    "The state in India has tremendous impact on the number of people cured of Covid-19, the number of people killed by Covid-19, and the number of adverse reactions to vaccines (AEFI). <br> <br>\n",
    "Of the three states examined: <br>\n",
    "- Delhi is poor at infection spread and AEFI\n",
    "- Tamil Nadu is poor at infection spread and good at preventing AEFI\n",
    "- Madhy Pradesh is good at limiting infection spread but poor at AEFI"
   ]
  },
  {
   "cell_type": "markdown",
   "id": "6f8db811",
   "metadata": {},
   "source": [
    "# Data Source"
   ]
  },
  {
   "cell_type": "markdown",
   "id": "41d08a38",
   "metadata": {},
   "source": [
    "Covid-19 in India <br>\n",
    "Dataset on Novel Corona Virus Disease 2019 in India <br>\n",
    "Author: Sudalairaj Kumar <br>\n",
    "Data acquired from Kaggle: <br>\n",
    "https://www.kaggle.com/sudalairajkumar/covid19-in-india?select=covid_19_india.csv <br>\n",
    "<br>\n",
    "Files acquired:\n",
    "- covid_19_india.csv\n",
    "- covid_vaccine_statewise.csv\n",
    "- StatewiseTestingDetails.csv"
   ]
  },
  {
   "cell_type": "markdown",
   "id": "4e71630e",
   "metadata": {},
   "source": [
    "# Data Dictionary\n",
    "- state: the state in which observations were recorded.\n",
    "- date: the date at which observations were reported (not necessarily when observations occurred).\n",
    "- cured: the reported number of patients cured of Covid-19.\n",
    "- deaths: the reported number of patients killed by Covid-19.\n",
    "- total_doses: the total doses of all Covid-19 vaccines administered.\n",
    "- covaxin: the doses of covaxin administered.\n",
    "- covishield: the doses of covishield administered.\n",
    "- sputnik: the doses of sputnik administered.\n",
    "- AEFI: the reported number of adverse reactions to Covid-19 vaccines."
   ]
  },
  {
   "cell_type": "markdown",
   "id": "7ca67905",
   "metadata": {},
   "source": [
    "# Planning\n",
    "### Features to be used from covid_19_india.csv:\n",
    "- State\n",
    "- Date\n",
    "- Cured\n",
    "- Deaths\n",
    "<br>\n",
    "### Features to be used from covid_vaccine_statewise.csv: <br>\n",
    "- State\n",
    "- Date\n",
    "- Total Doses\n",
    "- AEFI\n",
    "- Vaccine type\n",
    "<br> <br>\n",
    "### Overall Process\n",
    "- Drop 'Sno' because it can't be combined with other tables, we are going for state-wide view instead of individual patient view.\n",
    "- Clean 'State' columns in each file so that they are equivalent.\n",
    "- Perform other data preparation\n",
    "- Create a dataframe for each state from the source files, then join the same state dataframes on state. Next, concatenate the different state dataframes into one.\n",
    "- First look at data as time-series, then as multi-factorial\n",
    "<br> <br>\n",
    "### Follow the standard data science pipeline:\n",
    "<br>\n",
    "Acquire -> Prepare -> Explore -> Model -> Delivery\n"
   ]
  },
  {
   "cell_type": "markdown",
   "id": "77347223",
   "metadata": {},
   "source": [
    "# Acquire"
   ]
  },
  {
   "cell_type": "code",
   "execution_count": 1,
   "id": "fa959497",
   "metadata": {},
   "outputs": [],
   "source": [
    "import numpy as np\n",
    "import pandas as pd\n",
    "\n",
    "import matplotlib.pyplot as plt\n",
    "%matplotlib inline\n",
    "import seaborn as sns\n",
    "from pandas.plotting import register_matplotlib_converters\n",
    "\n",
    "from datetime import datetime\n",
    "from sklearn.metrics import mean_squared_error\n",
    "from math import sqrt\n",
    "\n",
    "from scipy.stats import pearsonr, spearmanr, ttest_ind\n",
    "\n",
    "import statsmodels.api as sm\n",
    "from statsmodels.tsa.api import Holt\n",
    "\n",
    "import sklearn\n",
    "from sklearn.model_selection import train_test_split\n",
    "from sklearn.impute import SimpleImputer\n",
    "from sklearn.linear_model import LogisticRegression, LinearRegression, LassoLars, TweedieRegressor\n",
    "from sklearn.metrics import classification_report\n",
    "from sklearn.metrics import confusion_matrix\n",
    "from sklearn.metrics import mean_squared_error\n",
    "from sklearn.preprocessing import PolynomialFeatures\n",
    "from sklearn.feature_selection import SelectKBest, f_regression, RFE\n",
    "from sklearn.preprocessing import StandardScaler\n",
    "from sklearn.metrics import explained_variance_score\n",
    "\n",
    "import warnings\n",
    "warnings.filterwarnings(\"ignore\")\n",
    "\n",
    "# Sets precision of 2 and suppresses scientific notation\n",
    "pd.set_option('display.float_format', lambda x: '%.2f' % x)\n",
    "\n",
    "# Seperates thousands, millions, etc with commas\n",
    "pd.options.display.float_format = '{:,}'.format\n",
    "\n"
   ]
  },
  {
   "cell_type": "code",
   "execution_count": 2,
   "id": "e2eb791c",
   "metadata": {},
   "outputs": [
    {
     "data": {
      "text/html": [
       "<div>\n",
       "<style scoped>\n",
       "    .dataframe tbody tr th:only-of-type {\n",
       "        vertical-align: middle;\n",
       "    }\n",
       "\n",
       "    .dataframe tbody tr th {\n",
       "        vertical-align: top;\n",
       "    }\n",
       "\n",
       "    .dataframe thead th {\n",
       "        text-align: right;\n",
       "    }\n",
       "</style>\n",
       "<table border=\"1\" class=\"dataframe\">\n",
       "  <thead>\n",
       "    <tr style=\"text-align: right;\">\n",
       "      <th></th>\n",
       "      <th>Sno</th>\n",
       "      <th>Date</th>\n",
       "      <th>Time</th>\n",
       "      <th>State/UnionTerritory</th>\n",
       "      <th>ConfirmedIndianNational</th>\n",
       "      <th>ConfirmedForeignNational</th>\n",
       "      <th>Cured</th>\n",
       "      <th>Deaths</th>\n",
       "      <th>Confirmed</th>\n",
       "    </tr>\n",
       "  </thead>\n",
       "  <tbody>\n",
       "    <tr>\n",
       "      <th>0</th>\n",
       "      <td>1</td>\n",
       "      <td>2020-01-30</td>\n",
       "      <td>6:00 PM</td>\n",
       "      <td>Kerala</td>\n",
       "      <td>1</td>\n",
       "      <td>0</td>\n",
       "      <td>0</td>\n",
       "      <td>0</td>\n",
       "      <td>1</td>\n",
       "    </tr>\n",
       "    <tr>\n",
       "      <th>1</th>\n",
       "      <td>2</td>\n",
       "      <td>2020-01-31</td>\n",
       "      <td>6:00 PM</td>\n",
       "      <td>Kerala</td>\n",
       "      <td>1</td>\n",
       "      <td>0</td>\n",
       "      <td>0</td>\n",
       "      <td>0</td>\n",
       "      <td>1</td>\n",
       "    </tr>\n",
       "    <tr>\n",
       "      <th>2</th>\n",
       "      <td>3</td>\n",
       "      <td>2020-02-01</td>\n",
       "      <td>6:00 PM</td>\n",
       "      <td>Kerala</td>\n",
       "      <td>2</td>\n",
       "      <td>0</td>\n",
       "      <td>0</td>\n",
       "      <td>0</td>\n",
       "      <td>2</td>\n",
       "    </tr>\n",
       "    <tr>\n",
       "      <th>3</th>\n",
       "      <td>4</td>\n",
       "      <td>2020-02-02</td>\n",
       "      <td>6:00 PM</td>\n",
       "      <td>Kerala</td>\n",
       "      <td>3</td>\n",
       "      <td>0</td>\n",
       "      <td>0</td>\n",
       "      <td>0</td>\n",
       "      <td>3</td>\n",
       "    </tr>\n",
       "    <tr>\n",
       "      <th>4</th>\n",
       "      <td>5</td>\n",
       "      <td>2020-02-03</td>\n",
       "      <td>6:00 PM</td>\n",
       "      <td>Kerala</td>\n",
       "      <td>3</td>\n",
       "      <td>0</td>\n",
       "      <td>0</td>\n",
       "      <td>0</td>\n",
       "      <td>3</td>\n",
       "    </tr>\n",
       "  </tbody>\n",
       "</table>\n",
       "</div>"
      ],
      "text/plain": [
       "   Sno        Date     Time State/UnionTerritory ConfirmedIndianNational  \\\n",
       "0    1  2020-01-30  6:00 PM               Kerala                       1   \n",
       "1    2  2020-01-31  6:00 PM               Kerala                       1   \n",
       "2    3  2020-02-01  6:00 PM               Kerala                       2   \n",
       "3    4  2020-02-02  6:00 PM               Kerala                       3   \n",
       "4    5  2020-02-03  6:00 PM               Kerala                       3   \n",
       "\n",
       "  ConfirmedForeignNational  Cured  Deaths  Confirmed  \n",
       "0                        0      0       0          1  \n",
       "1                        0      0       0          1  \n",
       "2                        0      0       0          2  \n",
       "3                        0      0       0          3  \n",
       "4                        0      0       0          3  "
      ]
     },
     "execution_count": 2,
     "metadata": {},
     "output_type": "execute_result"
    }
   ],
   "source": [
    "df = pd.read_csv('covid_19_india.csv')\n",
    "df.head()"
   ]
  },
  {
   "cell_type": "code",
   "execution_count": 3,
   "id": "b6f3e2d6",
   "metadata": {},
   "outputs": [
    {
     "name": "stdout",
     "output_type": "stream",
     "text": [
      "<class 'pandas.core.frame.DataFrame'>\n",
      "RangeIndex: 18110 entries, 0 to 18109\n",
      "Data columns (total 9 columns):\n",
      " #   Column                    Non-Null Count  Dtype \n",
      "---  ------                    --------------  ----- \n",
      " 0   Sno                       18110 non-null  int64 \n",
      " 1   Date                      18110 non-null  object\n",
      " 2   Time                      18110 non-null  object\n",
      " 3   State/UnionTerritory      18110 non-null  object\n",
      " 4   ConfirmedIndianNational   18110 non-null  object\n",
      " 5   ConfirmedForeignNational  18110 non-null  object\n",
      " 6   Cured                     18110 non-null  int64 \n",
      " 7   Deaths                    18110 non-null  int64 \n",
      " 8   Confirmed                 18110 non-null  int64 \n",
      "dtypes: int64(4), object(5)\n",
      "memory usage: 1.2+ MB\n"
     ]
    }
   ],
   "source": [
    "df.info()"
   ]
  },
  {
   "cell_type": "code",
   "execution_count": 4,
   "id": "1c11e7c5",
   "metadata": {},
   "outputs": [
    {
     "data": {
      "text/plain": [
       "0                  Andaman and Nicobar Islands\n",
       "1                               Andhra Pradesh\n",
       "2                            Arunachal Pradesh\n",
       "3                                        Assam\n",
       "4                                        Bihar\n",
       "5                                    Bihar****\n",
       "6             Cases being reassigned to states\n",
       "7                                   Chandigarh\n",
       "8                                 Chhattisgarh\n",
       "9                       Dadra and Nagar Haveli\n",
       "10    Dadra and Nagar Haveli and Daman and Diu\n",
       "11                                 Daman & Diu\n",
       "12                                       Delhi\n",
       "13                                         Goa\n",
       "14                                     Gujarat\n",
       "15                                     Haryana\n",
       "16                            Himachal Pradesh\n",
       "17                           Himanchal Pradesh\n",
       "18                           Jammu and Kashmir\n",
       "19                                   Jharkhand\n",
       "20                                  Karanataka\n",
       "21                                   Karnataka\n",
       "22                                      Kerala\n",
       "23                                      Ladakh\n",
       "24                                 Lakshadweep\n",
       "25                              Madhya Pradesh\n",
       "26                           Madhya Pradesh***\n",
       "27                                 Maharashtra\n",
       "28                              Maharashtra***\n",
       "29                                     Manipur\n",
       "30                                   Meghalaya\n",
       "31                                     Mizoram\n",
       "32                                    Nagaland\n",
       "33                                      Odisha\n",
       "34                                  Puducherry\n",
       "35                                      Punjab\n",
       "36                                   Rajasthan\n",
       "37                                      Sikkim\n",
       "38                                  Tamil Nadu\n",
       "39                                   Telangana\n",
       "40                                   Telengana\n",
       "41                                     Tripura\n",
       "42                                  Unassigned\n",
       "43                               Uttar Pradesh\n",
       "44                                 Uttarakhand\n",
       "45                                 West Bengal\n",
       "dtype: object"
      ]
     },
     "execution_count": 4,
     "metadata": {},
     "output_type": "execute_result"
    }
   ],
   "source": [
    "state_from_df = pd.Series(np.unique(df['State/UnionTerritory']))\n",
    "state_from_df"
   ]
  },
  {
   "cell_type": "code",
   "execution_count": 5,
   "id": "53a2aae5",
   "metadata": {},
   "outputs": [
    {
     "data": {
      "text/plain": [
       "(46,)"
      ]
     },
     "execution_count": 5,
     "metadata": {},
     "output_type": "execute_result"
    }
   ],
   "source": [
    "state_from_df.shape"
   ]
  },
  {
   "cell_type": "code",
   "execution_count": 6,
   "id": "13b86be9",
   "metadata": {},
   "outputs": [
    {
     "data": {
      "text/html": [
       "<div>\n",
       "<style scoped>\n",
       "    .dataframe tbody tr th:only-of-type {\n",
       "        vertical-align: middle;\n",
       "    }\n",
       "\n",
       "    .dataframe tbody tr th {\n",
       "        vertical-align: top;\n",
       "    }\n",
       "\n",
       "    .dataframe thead th {\n",
       "        text-align: right;\n",
       "    }\n",
       "</style>\n",
       "<table border=\"1\" class=\"dataframe\">\n",
       "  <thead>\n",
       "    <tr style=\"text-align: right;\">\n",
       "      <th></th>\n",
       "      <th>Updated On</th>\n",
       "      <th>State</th>\n",
       "      <th>Total Doses Administered</th>\n",
       "      <th>Sessions</th>\n",
       "      <th>Sites</th>\n",
       "      <th>First Dose Administered</th>\n",
       "      <th>Second Dose Administered</th>\n",
       "      <th>Male (Doses Administered)</th>\n",
       "      <th>Female (Doses Administered)</th>\n",
       "      <th>Transgender (Doses Administered)</th>\n",
       "      <th>...</th>\n",
       "      <th>18-44 Years (Doses Administered)</th>\n",
       "      <th>45-60 Years (Doses Administered)</th>\n",
       "      <th>60+ Years (Doses Administered)</th>\n",
       "      <th>18-44 Years(Individuals Vaccinated)</th>\n",
       "      <th>45-60 Years(Individuals Vaccinated)</th>\n",
       "      <th>60+ Years(Individuals Vaccinated)</th>\n",
       "      <th>Male(Individuals Vaccinated)</th>\n",
       "      <th>Female(Individuals Vaccinated)</th>\n",
       "      <th>Transgender(Individuals Vaccinated)</th>\n",
       "      <th>Total Individuals Vaccinated</th>\n",
       "    </tr>\n",
       "  </thead>\n",
       "  <tbody>\n",
       "    <tr>\n",
       "      <th>0</th>\n",
       "      <td>16/01/2021</td>\n",
       "      <td>India</td>\n",
       "      <td>48,276.0</td>\n",
       "      <td>3,455.0</td>\n",
       "      <td>2,957.0</td>\n",
       "      <td>48,276.0</td>\n",
       "      <td>0.0</td>\n",
       "      <td>NaN</td>\n",
       "      <td>NaN</td>\n",
       "      <td>NaN</td>\n",
       "      <td>...</td>\n",
       "      <td>NaN</td>\n",
       "      <td>NaN</td>\n",
       "      <td>NaN</td>\n",
       "      <td>NaN</td>\n",
       "      <td>NaN</td>\n",
       "      <td>NaN</td>\n",
       "      <td>23,757.0</td>\n",
       "      <td>24,517.0</td>\n",
       "      <td>2.0</td>\n",
       "      <td>48,276.0</td>\n",
       "    </tr>\n",
       "    <tr>\n",
       "      <th>1</th>\n",
       "      <td>17/01/2021</td>\n",
       "      <td>India</td>\n",
       "      <td>58,604.0</td>\n",
       "      <td>8,532.0</td>\n",
       "      <td>4,954.0</td>\n",
       "      <td>58,604.0</td>\n",
       "      <td>0.0</td>\n",
       "      <td>NaN</td>\n",
       "      <td>NaN</td>\n",
       "      <td>NaN</td>\n",
       "      <td>...</td>\n",
       "      <td>NaN</td>\n",
       "      <td>NaN</td>\n",
       "      <td>NaN</td>\n",
       "      <td>NaN</td>\n",
       "      <td>NaN</td>\n",
       "      <td>NaN</td>\n",
       "      <td>27,348.0</td>\n",
       "      <td>31,252.0</td>\n",
       "      <td>4.0</td>\n",
       "      <td>58,604.0</td>\n",
       "    </tr>\n",
       "    <tr>\n",
       "      <th>2</th>\n",
       "      <td>18/01/2021</td>\n",
       "      <td>India</td>\n",
       "      <td>99,449.0</td>\n",
       "      <td>13,611.0</td>\n",
       "      <td>6,583.0</td>\n",
       "      <td>99,449.0</td>\n",
       "      <td>0.0</td>\n",
       "      <td>NaN</td>\n",
       "      <td>NaN</td>\n",
       "      <td>NaN</td>\n",
       "      <td>...</td>\n",
       "      <td>NaN</td>\n",
       "      <td>NaN</td>\n",
       "      <td>NaN</td>\n",
       "      <td>NaN</td>\n",
       "      <td>NaN</td>\n",
       "      <td>NaN</td>\n",
       "      <td>41,361.0</td>\n",
       "      <td>58,083.0</td>\n",
       "      <td>5.0</td>\n",
       "      <td>99,449.0</td>\n",
       "    </tr>\n",
       "    <tr>\n",
       "      <th>3</th>\n",
       "      <td>19/01/2021</td>\n",
       "      <td>India</td>\n",
       "      <td>195,525.0</td>\n",
       "      <td>17,855.0</td>\n",
       "      <td>7,951.0</td>\n",
       "      <td>195,525.0</td>\n",
       "      <td>0.0</td>\n",
       "      <td>NaN</td>\n",
       "      <td>NaN</td>\n",
       "      <td>NaN</td>\n",
       "      <td>...</td>\n",
       "      <td>NaN</td>\n",
       "      <td>NaN</td>\n",
       "      <td>NaN</td>\n",
       "      <td>NaN</td>\n",
       "      <td>NaN</td>\n",
       "      <td>NaN</td>\n",
       "      <td>81,901.0</td>\n",
       "      <td>113,613.0</td>\n",
       "      <td>11.0</td>\n",
       "      <td>195,525.0</td>\n",
       "    </tr>\n",
       "    <tr>\n",
       "      <th>4</th>\n",
       "      <td>20/01/2021</td>\n",
       "      <td>India</td>\n",
       "      <td>251,280.0</td>\n",
       "      <td>25,472.0</td>\n",
       "      <td>10,504.0</td>\n",
       "      <td>251,280.0</td>\n",
       "      <td>0.0</td>\n",
       "      <td>NaN</td>\n",
       "      <td>NaN</td>\n",
       "      <td>NaN</td>\n",
       "      <td>...</td>\n",
       "      <td>NaN</td>\n",
       "      <td>NaN</td>\n",
       "      <td>NaN</td>\n",
       "      <td>NaN</td>\n",
       "      <td>NaN</td>\n",
       "      <td>NaN</td>\n",
       "      <td>98,111.0</td>\n",
       "      <td>153,145.0</td>\n",
       "      <td>24.0</td>\n",
       "      <td>251,280.0</td>\n",
       "    </tr>\n",
       "  </tbody>\n",
       "</table>\n",
       "<p>5 rows × 24 columns</p>\n",
       "</div>"
      ],
      "text/plain": [
       "   Updated On  State  Total Doses Administered  Sessions   Sites   \\\n",
       "0  16/01/2021  India                  48,276.0   3,455.0  2,957.0   \n",
       "1  17/01/2021  India                  58,604.0   8,532.0  4,954.0   \n",
       "2  18/01/2021  India                  99,449.0  13,611.0  6,583.0   \n",
       "3  19/01/2021  India                 195,525.0  17,855.0  7,951.0   \n",
       "4  20/01/2021  India                 251,280.0  25,472.0 10,504.0   \n",
       "\n",
       "   First Dose Administered  Second Dose Administered  \\\n",
       "0                 48,276.0                       0.0   \n",
       "1                 58,604.0                       0.0   \n",
       "2                 99,449.0                       0.0   \n",
       "3                195,525.0                       0.0   \n",
       "4                251,280.0                       0.0   \n",
       "\n",
       "   Male (Doses Administered)  Female (Doses Administered)  \\\n",
       "0                        NaN                          NaN   \n",
       "1                        NaN                          NaN   \n",
       "2                        NaN                          NaN   \n",
       "3                        NaN                          NaN   \n",
       "4                        NaN                          NaN   \n",
       "\n",
       "   Transgender (Doses Administered)  ...  18-44 Years (Doses Administered)  \\\n",
       "0                               NaN  ...                               NaN   \n",
       "1                               NaN  ...                               NaN   \n",
       "2                               NaN  ...                               NaN   \n",
       "3                               NaN  ...                               NaN   \n",
       "4                               NaN  ...                               NaN   \n",
       "\n",
       "   45-60 Years (Doses Administered)  60+ Years (Doses Administered)  \\\n",
       "0                               NaN                             NaN   \n",
       "1                               NaN                             NaN   \n",
       "2                               NaN                             NaN   \n",
       "3                               NaN                             NaN   \n",
       "4                               NaN                             NaN   \n",
       "\n",
       "   18-44 Years(Individuals Vaccinated)  45-60 Years(Individuals Vaccinated)  \\\n",
       "0                                  NaN                                  NaN   \n",
       "1                                  NaN                                  NaN   \n",
       "2                                  NaN                                  NaN   \n",
       "3                                  NaN                                  NaN   \n",
       "4                                  NaN                                  NaN   \n",
       "\n",
       "   60+ Years(Individuals Vaccinated)  Male(Individuals Vaccinated)  \\\n",
       "0                                NaN                      23,757.0   \n",
       "1                                NaN                      27,348.0   \n",
       "2                                NaN                      41,361.0   \n",
       "3                                NaN                      81,901.0   \n",
       "4                                NaN                      98,111.0   \n",
       "\n",
       "   Female(Individuals Vaccinated)  Transgender(Individuals Vaccinated)  \\\n",
       "0                        24,517.0                                  2.0   \n",
       "1                        31,252.0                                  4.0   \n",
       "2                        58,083.0                                  5.0   \n",
       "3                       113,613.0                                 11.0   \n",
       "4                       153,145.0                                 24.0   \n",
       "\n",
       "   Total Individuals Vaccinated  \n",
       "0                      48,276.0  \n",
       "1                      58,604.0  \n",
       "2                      99,449.0  \n",
       "3                     195,525.0  \n",
       "4                     251,280.0  \n",
       "\n",
       "[5 rows x 24 columns]"
      ]
     },
     "execution_count": 6,
     "metadata": {},
     "output_type": "execute_result"
    }
   ],
   "source": [
    "vaccine_df = pd.read_csv('covid_vaccine_statewise.csv')\n",
    "vaccine_df.head()"
   ]
  },
  {
   "cell_type": "code",
   "execution_count": 7,
   "id": "5bcb02d3",
   "metadata": {
    "scrolled": true
   },
   "outputs": [
    {
     "name": "stdout",
     "output_type": "stream",
     "text": [
      "<class 'pandas.core.frame.DataFrame'>\n",
      "RangeIndex: 7845 entries, 0 to 7844\n",
      "Data columns (total 24 columns):\n",
      " #   Column                               Non-Null Count  Dtype  \n",
      "---  ------                               --------------  -----  \n",
      " 0   Updated On                           7845 non-null   object \n",
      " 1   State                                7845 non-null   object \n",
      " 2   Total Doses Administered             7621 non-null   float64\n",
      " 3   Sessions                             7621 non-null   float64\n",
      " 4    Sites                               7621 non-null   float64\n",
      " 5   First Dose Administered              7621 non-null   float64\n",
      " 6   Second Dose Administered             7621 non-null   float64\n",
      " 7   Male (Doses Administered)            7461 non-null   float64\n",
      " 8   Female (Doses Administered)          7461 non-null   float64\n",
      " 9   Transgender (Doses Administered)     7461 non-null   float64\n",
      " 10   Covaxin (Doses Administered)        7621 non-null   float64\n",
      " 11  CoviShield (Doses Administered)      7621 non-null   float64\n",
      " 12  Sputnik V (Doses Administered)       2995 non-null   float64\n",
      " 13  AEFI                                 5438 non-null   float64\n",
      " 14  18-44 Years (Doses Administered)     1702 non-null   float64\n",
      " 15  45-60 Years (Doses Administered)     1702 non-null   float64\n",
      " 16  60+ Years (Doses Administered)       1702 non-null   float64\n",
      " 17  18-44 Years(Individuals Vaccinated)  3733 non-null   float64\n",
      " 18  45-60 Years(Individuals Vaccinated)  3734 non-null   float64\n",
      " 19  60+ Years(Individuals Vaccinated)    3734 non-null   float64\n",
      " 20  Male(Individuals Vaccinated)         160 non-null    float64\n",
      " 21  Female(Individuals Vaccinated)       160 non-null    float64\n",
      " 22  Transgender(Individuals Vaccinated)  160 non-null    float64\n",
      " 23  Total Individuals Vaccinated         5919 non-null   float64\n",
      "dtypes: float64(22), object(2)\n",
      "memory usage: 1.4+ MB\n"
     ]
    }
   ],
   "source": [
    "vaccine_df.info()"
   ]
  },
  {
   "cell_type": "code",
   "execution_count": 8,
   "id": "a2ceb7cc",
   "metadata": {},
   "outputs": [
    {
     "data": {
      "text/plain": [
       "0                  Andaman and Nicobar Islands\n",
       "1                               Andhra Pradesh\n",
       "2                            Arunachal Pradesh\n",
       "3                                        Assam\n",
       "4                                        Bihar\n",
       "5                                   Chandigarh\n",
       "6                                 Chhattisgarh\n",
       "7     Dadra and Nagar Haveli and Daman and Diu\n",
       "8                                        Delhi\n",
       "9                                          Goa\n",
       "10                                     Gujarat\n",
       "11                                     Haryana\n",
       "12                            Himachal Pradesh\n",
       "13                                       India\n",
       "14                           Jammu and Kashmir\n",
       "15                                   Jharkhand\n",
       "16                                   Karnataka\n",
       "17                                      Kerala\n",
       "18                                      Ladakh\n",
       "19                                 Lakshadweep\n",
       "20                              Madhya Pradesh\n",
       "21                                 Maharashtra\n",
       "22                                     Manipur\n",
       "23                                   Meghalaya\n",
       "24                                     Mizoram\n",
       "25                                    Nagaland\n",
       "26                                      Odisha\n",
       "27                                  Puducherry\n",
       "28                                      Punjab\n",
       "29                                   Rajasthan\n",
       "30                                      Sikkim\n",
       "31                                  Tamil Nadu\n",
       "32                                   Telangana\n",
       "33                                     Tripura\n",
       "34                               Uttar Pradesh\n",
       "35                                 Uttarakhand\n",
       "36                                 West Bengal\n",
       "dtype: object"
      ]
     },
     "execution_count": 8,
     "metadata": {},
     "output_type": "execute_result"
    }
   ],
   "source": [
    "state_from_vaccine = pd.Series(np.unique(vaccine_df.State))\n",
    "state_from_vaccine"
   ]
  },
  {
   "cell_type": "code",
   "execution_count": 9,
   "id": "b9c2d381",
   "metadata": {},
   "outputs": [
    {
     "data": {
      "text/plain": [
       "(37,)"
      ]
     },
     "execution_count": 9,
     "metadata": {},
     "output_type": "execute_result"
    }
   ],
   "source": [
    "# The number of states between the files is different\n",
    "state_from_vaccine.shape"
   ]
  },
  {
   "cell_type": "code",
   "execution_count": 10,
   "id": "7bc4c709",
   "metadata": {},
   "outputs": [
    {
     "data": {
      "text/html": [
       "<div>\n",
       "<style scoped>\n",
       "    .dataframe tbody tr th:only-of-type {\n",
       "        vertical-align: middle;\n",
       "    }\n",
       "\n",
       "    .dataframe tbody tr th {\n",
       "        vertical-align: top;\n",
       "    }\n",
       "\n",
       "    .dataframe thead th {\n",
       "        text-align: right;\n",
       "    }\n",
       "</style>\n",
       "<table border=\"1\" class=\"dataframe\">\n",
       "  <thead>\n",
       "    <tr style=\"text-align: right;\">\n",
       "      <th></th>\n",
       "      <th>Date</th>\n",
       "      <th>State</th>\n",
       "      <th>TotalSamples</th>\n",
       "      <th>Negative</th>\n",
       "      <th>Positive</th>\n",
       "    </tr>\n",
       "  </thead>\n",
       "  <tbody>\n",
       "    <tr>\n",
       "      <th>0</th>\n",
       "      <td>2020-04-17</td>\n",
       "      <td>Andaman and Nicobar Islands</td>\n",
       "      <td>1,403.0</td>\n",
       "      <td>1210</td>\n",
       "      <td>12.0</td>\n",
       "    </tr>\n",
       "    <tr>\n",
       "      <th>1</th>\n",
       "      <td>2020-04-24</td>\n",
       "      <td>Andaman and Nicobar Islands</td>\n",
       "      <td>2,679.0</td>\n",
       "      <td>NaN</td>\n",
       "      <td>27.0</td>\n",
       "    </tr>\n",
       "    <tr>\n",
       "      <th>2</th>\n",
       "      <td>2020-04-27</td>\n",
       "      <td>Andaman and Nicobar Islands</td>\n",
       "      <td>2,848.0</td>\n",
       "      <td>NaN</td>\n",
       "      <td>33.0</td>\n",
       "    </tr>\n",
       "    <tr>\n",
       "      <th>3</th>\n",
       "      <td>2020-05-01</td>\n",
       "      <td>Andaman and Nicobar Islands</td>\n",
       "      <td>3,754.0</td>\n",
       "      <td>NaN</td>\n",
       "      <td>33.0</td>\n",
       "    </tr>\n",
       "    <tr>\n",
       "      <th>4</th>\n",
       "      <td>2020-05-16</td>\n",
       "      <td>Andaman and Nicobar Islands</td>\n",
       "      <td>6,677.0</td>\n",
       "      <td>NaN</td>\n",
       "      <td>33.0</td>\n",
       "    </tr>\n",
       "  </tbody>\n",
       "</table>\n",
       "</div>"
      ],
      "text/plain": [
       "         Date                        State  TotalSamples Negative  Positive\n",
       "0  2020-04-17  Andaman and Nicobar Islands       1,403.0     1210      12.0\n",
       "1  2020-04-24  Andaman and Nicobar Islands       2,679.0      NaN      27.0\n",
       "2  2020-04-27  Andaman and Nicobar Islands       2,848.0      NaN      33.0\n",
       "3  2020-05-01  Andaman and Nicobar Islands       3,754.0      NaN      33.0\n",
       "4  2020-05-16  Andaman and Nicobar Islands       6,677.0      NaN      33.0"
      ]
     },
     "execution_count": 10,
     "metadata": {},
     "output_type": "execute_result"
    }
   ],
   "source": [
    "testing_df = pd.read_csv('StatewiseTestingDetails.csv')\n",
    "testing_df.head()"
   ]
  },
  {
   "cell_type": "code",
   "execution_count": 11,
   "id": "c68e1832",
   "metadata": {},
   "outputs": [
    {
     "name": "stdout",
     "output_type": "stream",
     "text": [
      "<class 'pandas.core.frame.DataFrame'>\n",
      "RangeIndex: 16336 entries, 0 to 16335\n",
      "Data columns (total 5 columns):\n",
      " #   Column        Non-Null Count  Dtype  \n",
      "---  ------        --------------  -----  \n",
      " 0   Date          16336 non-null  object \n",
      " 1   State         16336 non-null  object \n",
      " 2   TotalSamples  16336 non-null  float64\n",
      " 3   Negative      6969 non-null   object \n",
      " 4   Positive      5662 non-null   float64\n",
      "dtypes: float64(2), object(3)\n",
      "memory usage: 638.2+ KB\n"
     ]
    }
   ],
   "source": [
    "testing_df.info()"
   ]
  },
  {
   "cell_type": "markdown",
   "id": "a43fa2c9",
   "metadata": {},
   "source": [
    "### Takeaways from Acquire: <br>\n",
    "- covid_19_india.csv has no nulls, the other two files have some columns with no or few nulls and some columns with many nulls\n",
    "- covid_19_india.csv has a unique serial number for each case, the other files do not\n",
    "- covid_19_india.csv has state, date, cured, deaths, and confirmed cases (no nulls in these features)\n",
    "- There some alternative spellings for states that must be cleaned\n",
    "- Date is date of observation, but does not say which observation; Covid-19 vaccination generally requires two visits\n",
    "- covid_vaccine_statewise.csv has state and general vaccine info with few nulls\n",
    "- Nothing like a patient_id tying patient outcome to vaccination status\n",
    "- Overall covid outcome can be tied to overall vaccination status by State\n",
    "- StatewiseTestingDetails.csv has many nulls in the features that would be most usefull\n",
    "- Comparison of State between files will require data cleaning\n",
    "- Some column names are not coding-safe"
   ]
  },
  {
   "cell_type": "markdown",
   "id": "f66220d5",
   "metadata": {},
   "source": [
    "# Prepare"
   ]
  },
  {
   "cell_type": "code",
   "execution_count": 12,
   "id": "bb97b937",
   "metadata": {},
   "outputs": [],
   "source": [
    "def prepare_data(df, vaccine_df):\n",
    "    # Correct issues with state names\n",
    "    # Asterixes were removed from names\n",
    "    # Some states had several spellings, and were combined into one form\n",
    "    # Some states were not state names and were changed to null\n",
    "    df = df.replace('Bihar****', 'Bihar')\n",
    "    df = df.replace('Cases being reassigned to states', 'Other')\n",
    "    df = df.replace('Dadra and Nagar Haveli', 'Dadra and Nagar Haveli and Daman and Diu')\n",
    "    df = df.replace('Daman & Diu', 'Dadra and Nagar Haveli and Daman and Diu')\n",
    "    df = df.replace('Himanchal Pradesh', 'Himachal Pradesh')\n",
    "    df = df.replace('Karanataka', 'Karnataka')\n",
    "    df = df.replace('Madhya Pradesh***', 'Madhya Pradesh')\n",
    "    df = df.replace('Maharashtra***', 'Maharashtra')\n",
    "    df = df.replace('Telengana', 'Telangana')\n",
    "    df = df.replace('Unassigned', 'Other')\n",
    "    vaccine_df = vaccine_df.replace('India', 'Other')\n",
    "    \n",
    "    # Change column names for ease-of-use\n",
    "    df = df.rename(columns={'Date':'date', \n",
    "                            'State/UnionTerritory':'state',\n",
    "                            'Cured':'cured', \n",
    "                            'Deaths':'deaths'})\n",
    "    \n",
    "    vaccine_df = vaccine_df.rename(columns={'Updated On':'date', \n",
    "                                            'State':'state', \n",
    "                                            'Total Doses Administered':'total_doses', \n",
    "                                            ' Covaxin (Doses Administered)':'covaxin', \n",
    "                                            'CoviShield (Doses Administered)':'covishield', \n",
    "                                            'Sputnik V (Doses Administered)':'sputnik', \n",
    "                                            '18-44 Years(Individuals Vaccinated)':'young_adults_vaccinated', \n",
    "                                            '45-60 Years(Individuals Vaccinated)':'midaged_vaccinated', \n",
    "                                            '60+ Years(Individuals Vaccinated)':'elderly_vaccinated', \n",
    "                                            'Male(Individuals Vaccinated)':'males_vaccinated', \n",
    "                                            'Female(Individuals Vaccinated)':'females_vaccinated'}) \n",
    "    \n",
    "    # Drop unwanted columns\n",
    "    df = df.drop(columns=['Sno', 'Time', 'ConfirmedIndianNational', \n",
    "                          'ConfirmedForeignNational', 'Confirmed'])\n",
    "    \n",
    "    vaccine_df = vaccine_df.drop(columns=['18-44 Years (Doses Administered)', \n",
    "                                          '45-60 Years (Doses Administered)', \n",
    "                                          '60+ Years (Doses Administered)',\n",
    "                                          'Male (Doses Administered)', \n",
    "                                          'Female (Doses Administered)',\n",
    "                                          'Transgender(Individuals Vaccinated)', \n",
    "                                          'Total Individuals Vaccinated', \n",
    "                                          'First Dose Administered', \n",
    "                                          'Second Dose Administered',\n",
    "                                          'Transgender (Doses Administered)', \n",
    "                                          'Sessions', \n",
    "                                          ' Sites '])\n",
    "\n",
    "    # Drop nulls from vaccine dataframe, date and state had no nulls\n",
    "    # Assume that other nulls occured because healthcare workers do not\n",
    "    # always fill out a list of things that they don't give a patient.\n",
    "    # Thus, the real value is probably 0\n",
    "    # The other dataframe has no nulls\n",
    "    vaccine_df = vaccine_df.fillna(0)\n",
    "    \n",
    "    # Convert 'date' to datetime type for both dataframes\n",
    "    df.date = pd.to_datetime(df.date)\n",
    "    vaccine_df.date = pd.to_datetime(vaccine_df.date)\n",
    "    # Set date as index for both dataframes\n",
    "    df = df.set_index('date').sort_index()\n",
    "    vaccine_df = vaccine_df.set_index('date').sort_index()\n",
    "      \n",
    "    return df, vaccine_df\n",
    "\n",
    "df, vaccine_df = prepare_data(df, vaccine_df)"
   ]
  },
  {
   "cell_type": "code",
   "execution_count": 13,
   "id": "ee7aeec6",
   "metadata": {},
   "outputs": [
    {
     "data": {
      "text/plain": [
       "(37,)"
      ]
     },
     "execution_count": 13,
     "metadata": {},
     "output_type": "execute_result"
    }
   ],
   "source": [
    "state_from_df = pd.Series(np.unique(df['state']))\n",
    "state_from_df.shape"
   ]
  },
  {
   "cell_type": "code",
   "execution_count": 14,
   "id": "53153719",
   "metadata": {},
   "outputs": [
    {
     "data": {
      "text/plain": [
       "(37,)"
      ]
     },
     "execution_count": 14,
     "metadata": {},
     "output_type": "execute_result"
    }
   ],
   "source": [
    "# Both dataframes have an equal number of states\n",
    "state_from_vaccine = pd.Series(np.unique(vaccine_df.state))\n",
    "state_from_vaccine.shape"
   ]
  },
  {
   "cell_type": "code",
   "execution_count": 15,
   "id": "03010bc0",
   "metadata": {},
   "outputs": [
    {
     "data": {
      "text/html": [
       "<div>\n",
       "<style scoped>\n",
       "    .dataframe tbody tr th:only-of-type {\n",
       "        vertical-align: middle;\n",
       "    }\n",
       "\n",
       "    .dataframe tbody tr th {\n",
       "        vertical-align: top;\n",
       "    }\n",
       "\n",
       "    .dataframe thead th {\n",
       "        text-align: right;\n",
       "    }\n",
       "</style>\n",
       "<table border=\"1\" class=\"dataframe\">\n",
       "  <thead>\n",
       "    <tr style=\"text-align: right;\">\n",
       "      <th></th>\n",
       "      <th>0</th>\n",
       "      <th>1</th>\n",
       "    </tr>\n",
       "  </thead>\n",
       "  <tbody>\n",
       "    <tr>\n",
       "      <th>0</th>\n",
       "      <td>Andaman and Nicobar Islands</td>\n",
       "      <td>Andaman and Nicobar Islands</td>\n",
       "    </tr>\n",
       "    <tr>\n",
       "      <th>1</th>\n",
       "      <td>Andhra Pradesh</td>\n",
       "      <td>Andhra Pradesh</td>\n",
       "    </tr>\n",
       "    <tr>\n",
       "      <th>2</th>\n",
       "      <td>Arunachal Pradesh</td>\n",
       "      <td>Arunachal Pradesh</td>\n",
       "    </tr>\n",
       "    <tr>\n",
       "      <th>3</th>\n",
       "      <td>Assam</td>\n",
       "      <td>Assam</td>\n",
       "    </tr>\n",
       "    <tr>\n",
       "      <th>4</th>\n",
       "      <td>Bihar</td>\n",
       "      <td>Bihar</td>\n",
       "    </tr>\n",
       "    <tr>\n",
       "      <th>5</th>\n",
       "      <td>Chandigarh</td>\n",
       "      <td>Chandigarh</td>\n",
       "    </tr>\n",
       "    <tr>\n",
       "      <th>6</th>\n",
       "      <td>Chhattisgarh</td>\n",
       "      <td>Chhattisgarh</td>\n",
       "    </tr>\n",
       "    <tr>\n",
       "      <th>7</th>\n",
       "      <td>Dadra and Nagar Haveli and Daman and Diu</td>\n",
       "      <td>Dadra and Nagar Haveli and Daman and Diu</td>\n",
       "    </tr>\n",
       "    <tr>\n",
       "      <th>8</th>\n",
       "      <td>Delhi</td>\n",
       "      <td>Delhi</td>\n",
       "    </tr>\n",
       "    <tr>\n",
       "      <th>9</th>\n",
       "      <td>Goa</td>\n",
       "      <td>Goa</td>\n",
       "    </tr>\n",
       "    <tr>\n",
       "      <th>10</th>\n",
       "      <td>Gujarat</td>\n",
       "      <td>Gujarat</td>\n",
       "    </tr>\n",
       "    <tr>\n",
       "      <th>11</th>\n",
       "      <td>Haryana</td>\n",
       "      <td>Haryana</td>\n",
       "    </tr>\n",
       "    <tr>\n",
       "      <th>12</th>\n",
       "      <td>Himachal Pradesh</td>\n",
       "      <td>Himachal Pradesh</td>\n",
       "    </tr>\n",
       "    <tr>\n",
       "      <th>13</th>\n",
       "      <td>Jammu and Kashmir</td>\n",
       "      <td>Jammu and Kashmir</td>\n",
       "    </tr>\n",
       "    <tr>\n",
       "      <th>14</th>\n",
       "      <td>Jharkhand</td>\n",
       "      <td>Jharkhand</td>\n",
       "    </tr>\n",
       "    <tr>\n",
       "      <th>15</th>\n",
       "      <td>Karnataka</td>\n",
       "      <td>Karnataka</td>\n",
       "    </tr>\n",
       "    <tr>\n",
       "      <th>16</th>\n",
       "      <td>Kerala</td>\n",
       "      <td>Kerala</td>\n",
       "    </tr>\n",
       "    <tr>\n",
       "      <th>17</th>\n",
       "      <td>Ladakh</td>\n",
       "      <td>Ladakh</td>\n",
       "    </tr>\n",
       "    <tr>\n",
       "      <th>18</th>\n",
       "      <td>Lakshadweep</td>\n",
       "      <td>Lakshadweep</td>\n",
       "    </tr>\n",
       "    <tr>\n",
       "      <th>19</th>\n",
       "      <td>Madhya Pradesh</td>\n",
       "      <td>Madhya Pradesh</td>\n",
       "    </tr>\n",
       "    <tr>\n",
       "      <th>20</th>\n",
       "      <td>Maharashtra</td>\n",
       "      <td>Maharashtra</td>\n",
       "    </tr>\n",
       "    <tr>\n",
       "      <th>21</th>\n",
       "      <td>Manipur</td>\n",
       "      <td>Manipur</td>\n",
       "    </tr>\n",
       "    <tr>\n",
       "      <th>22</th>\n",
       "      <td>Meghalaya</td>\n",
       "      <td>Meghalaya</td>\n",
       "    </tr>\n",
       "    <tr>\n",
       "      <th>23</th>\n",
       "      <td>Mizoram</td>\n",
       "      <td>Mizoram</td>\n",
       "    </tr>\n",
       "    <tr>\n",
       "      <th>24</th>\n",
       "      <td>Nagaland</td>\n",
       "      <td>Nagaland</td>\n",
       "    </tr>\n",
       "    <tr>\n",
       "      <th>25</th>\n",
       "      <td>Odisha</td>\n",
       "      <td>Odisha</td>\n",
       "    </tr>\n",
       "    <tr>\n",
       "      <th>26</th>\n",
       "      <td>Other</td>\n",
       "      <td>Other</td>\n",
       "    </tr>\n",
       "    <tr>\n",
       "      <th>27</th>\n",
       "      <td>Puducherry</td>\n",
       "      <td>Puducherry</td>\n",
       "    </tr>\n",
       "    <tr>\n",
       "      <th>28</th>\n",
       "      <td>Punjab</td>\n",
       "      <td>Punjab</td>\n",
       "    </tr>\n",
       "    <tr>\n",
       "      <th>29</th>\n",
       "      <td>Rajasthan</td>\n",
       "      <td>Rajasthan</td>\n",
       "    </tr>\n",
       "    <tr>\n",
       "      <th>30</th>\n",
       "      <td>Sikkim</td>\n",
       "      <td>Sikkim</td>\n",
       "    </tr>\n",
       "    <tr>\n",
       "      <th>31</th>\n",
       "      <td>Tamil Nadu</td>\n",
       "      <td>Tamil Nadu</td>\n",
       "    </tr>\n",
       "    <tr>\n",
       "      <th>32</th>\n",
       "      <td>Telangana</td>\n",
       "      <td>Telangana</td>\n",
       "    </tr>\n",
       "    <tr>\n",
       "      <th>33</th>\n",
       "      <td>Tripura</td>\n",
       "      <td>Tripura</td>\n",
       "    </tr>\n",
       "    <tr>\n",
       "      <th>34</th>\n",
       "      <td>Uttar Pradesh</td>\n",
       "      <td>Uttar Pradesh</td>\n",
       "    </tr>\n",
       "    <tr>\n",
       "      <th>35</th>\n",
       "      <td>Uttarakhand</td>\n",
       "      <td>Uttarakhand</td>\n",
       "    </tr>\n",
       "    <tr>\n",
       "      <th>36</th>\n",
       "      <td>West Bengal</td>\n",
       "      <td>West Bengal</td>\n",
       "    </tr>\n",
       "  </tbody>\n",
       "</table>\n",
       "</div>"
      ],
      "text/plain": [
       "                                           0  \\\n",
       "0                Andaman and Nicobar Islands   \n",
       "1                             Andhra Pradesh   \n",
       "2                          Arunachal Pradesh   \n",
       "3                                      Assam   \n",
       "4                                      Bihar   \n",
       "5                                 Chandigarh   \n",
       "6                               Chhattisgarh   \n",
       "7   Dadra and Nagar Haveli and Daman and Diu   \n",
       "8                                      Delhi   \n",
       "9                                        Goa   \n",
       "10                                   Gujarat   \n",
       "11                                   Haryana   \n",
       "12                          Himachal Pradesh   \n",
       "13                         Jammu and Kashmir   \n",
       "14                                 Jharkhand   \n",
       "15                                 Karnataka   \n",
       "16                                    Kerala   \n",
       "17                                    Ladakh   \n",
       "18                               Lakshadweep   \n",
       "19                            Madhya Pradesh   \n",
       "20                               Maharashtra   \n",
       "21                                   Manipur   \n",
       "22                                 Meghalaya   \n",
       "23                                   Mizoram   \n",
       "24                                  Nagaland   \n",
       "25                                    Odisha   \n",
       "26                                     Other   \n",
       "27                                Puducherry   \n",
       "28                                    Punjab   \n",
       "29                                 Rajasthan   \n",
       "30                                    Sikkim   \n",
       "31                                Tamil Nadu   \n",
       "32                                 Telangana   \n",
       "33                                   Tripura   \n",
       "34                             Uttar Pradesh   \n",
       "35                               Uttarakhand   \n",
       "36                               West Bengal   \n",
       "\n",
       "                                           1  \n",
       "0                Andaman and Nicobar Islands  \n",
       "1                             Andhra Pradesh  \n",
       "2                          Arunachal Pradesh  \n",
       "3                                      Assam  \n",
       "4                                      Bihar  \n",
       "5                                 Chandigarh  \n",
       "6                               Chhattisgarh  \n",
       "7   Dadra and Nagar Haveli and Daman and Diu  \n",
       "8                                      Delhi  \n",
       "9                                        Goa  \n",
       "10                                   Gujarat  \n",
       "11                                   Haryana  \n",
       "12                          Himachal Pradesh  \n",
       "13                         Jammu and Kashmir  \n",
       "14                                 Jharkhand  \n",
       "15                                 Karnataka  \n",
       "16                                    Kerala  \n",
       "17                                    Ladakh  \n",
       "18                               Lakshadweep  \n",
       "19                            Madhya Pradesh  \n",
       "20                               Maharashtra  \n",
       "21                                   Manipur  \n",
       "22                                 Meghalaya  \n",
       "23                                   Mizoram  \n",
       "24                                  Nagaland  \n",
       "25                                    Odisha  \n",
       "26                                     Other  \n",
       "27                                Puducherry  \n",
       "28                                    Punjab  \n",
       "29                                 Rajasthan  \n",
       "30                                    Sikkim  \n",
       "31                                Tamil Nadu  \n",
       "32                                 Telangana  \n",
       "33                                   Tripura  \n",
       "34                             Uttar Pradesh  \n",
       "35                               Uttarakhand  \n",
       "36                               West Bengal  "
      ]
     },
     "execution_count": 15,
     "metadata": {},
     "output_type": "execute_result"
    }
   ],
   "source": [
    "# Columns of states appear the same\n",
    "states = pd.DataFrame(pd.concat([state_from_df, state_from_vaccine], axis=1))\n",
    "states"
   ]
  },
  {
   "cell_type": "code",
   "execution_count": 16,
   "id": "00c70091",
   "metadata": {},
   "outputs": [
    {
     "data": {
      "text/plain": [
       "0     True\n",
       "1     True\n",
       "2     True\n",
       "3     True\n",
       "4     True\n",
       "5     True\n",
       "6     True\n",
       "7     True\n",
       "8     True\n",
       "9     True\n",
       "10    True\n",
       "11    True\n",
       "12    True\n",
       "13    True\n",
       "14    True\n",
       "15    True\n",
       "16    True\n",
       "17    True\n",
       "18    True\n",
       "19    True\n",
       "20    True\n",
       "21    True\n",
       "22    True\n",
       "23    True\n",
       "24    True\n",
       "25    True\n",
       "26    True\n",
       "27    True\n",
       "28    True\n",
       "29    True\n",
       "30    True\n",
       "31    True\n",
       "32    True\n",
       "33    True\n",
       "34    True\n",
       "35    True\n",
       "36    True\n",
       "dtype: bool"
      ]
     },
     "execution_count": 16,
     "metadata": {},
     "output_type": "execute_result"
    }
   ],
   "source": [
    "# States from both columns are equal\n",
    "state_from_df == state_from_vaccine"
   ]
  },
  {
   "cell_type": "code",
   "execution_count": 17,
   "id": "5a28b075",
   "metadata": {},
   "outputs": [
    {
     "data": {
      "text/html": [
       "<div>\n",
       "<style scoped>\n",
       "    .dataframe tbody tr th:only-of-type {\n",
       "        vertical-align: middle;\n",
       "    }\n",
       "\n",
       "    .dataframe tbody tr th {\n",
       "        vertical-align: top;\n",
       "    }\n",
       "\n",
       "    .dataframe thead th {\n",
       "        text-align: right;\n",
       "    }\n",
       "</style>\n",
       "<table border=\"1\" class=\"dataframe\">\n",
       "  <thead>\n",
       "    <tr style=\"text-align: right;\">\n",
       "      <th></th>\n",
       "      <th>state</th>\n",
       "      <th>cured</th>\n",
       "      <th>deaths</th>\n",
       "    </tr>\n",
       "    <tr>\n",
       "      <th>date</th>\n",
       "      <th></th>\n",
       "      <th></th>\n",
       "      <th></th>\n",
       "    </tr>\n",
       "  </thead>\n",
       "  <tbody>\n",
       "    <tr>\n",
       "      <th>2020-01-30</th>\n",
       "      <td>Kerala</td>\n",
       "      <td>0</td>\n",
       "      <td>0</td>\n",
       "    </tr>\n",
       "    <tr>\n",
       "      <th>2020-01-31</th>\n",
       "      <td>Kerala</td>\n",
       "      <td>0</td>\n",
       "      <td>0</td>\n",
       "    </tr>\n",
       "    <tr>\n",
       "      <th>2020-02-01</th>\n",
       "      <td>Kerala</td>\n",
       "      <td>0</td>\n",
       "      <td>0</td>\n",
       "    </tr>\n",
       "    <tr>\n",
       "      <th>2020-02-02</th>\n",
       "      <td>Kerala</td>\n",
       "      <td>0</td>\n",
       "      <td>0</td>\n",
       "    </tr>\n",
       "    <tr>\n",
       "      <th>2020-02-03</th>\n",
       "      <td>Kerala</td>\n",
       "      <td>0</td>\n",
       "      <td>0</td>\n",
       "    </tr>\n",
       "  </tbody>\n",
       "</table>\n",
       "</div>"
      ],
      "text/plain": [
       "             state  cured  deaths\n",
       "date                             \n",
       "2020-01-30  Kerala      0       0\n",
       "2020-01-31  Kerala      0       0\n",
       "2020-02-01  Kerala      0       0\n",
       "2020-02-02  Kerala      0       0\n",
       "2020-02-03  Kerala      0       0"
      ]
     },
     "execution_count": 17,
     "metadata": {},
     "output_type": "execute_result"
    }
   ],
   "source": [
    "df.head()"
   ]
  },
  {
   "cell_type": "code",
   "execution_count": 18,
   "id": "b8e56847",
   "metadata": {},
   "outputs": [
    {
     "data": {
      "text/html": [
       "<div>\n",
       "<style scoped>\n",
       "    .dataframe tbody tr th:only-of-type {\n",
       "        vertical-align: middle;\n",
       "    }\n",
       "\n",
       "    .dataframe tbody tr th {\n",
       "        vertical-align: top;\n",
       "    }\n",
       "\n",
       "    .dataframe thead th {\n",
       "        text-align: right;\n",
       "    }\n",
       "</style>\n",
       "<table border=\"1\" class=\"dataframe\">\n",
       "  <thead>\n",
       "    <tr style=\"text-align: right;\">\n",
       "      <th></th>\n",
       "      <th>state</th>\n",
       "      <th>total_doses</th>\n",
       "      <th>covaxin</th>\n",
       "      <th>covishield</th>\n",
       "      <th>sputnik</th>\n",
       "      <th>AEFI</th>\n",
       "      <th>young_adults_vaccinated</th>\n",
       "      <th>midaged_vaccinated</th>\n",
       "      <th>elderly_vaccinated</th>\n",
       "      <th>males_vaccinated</th>\n",
       "      <th>females_vaccinated</th>\n",
       "    </tr>\n",
       "    <tr>\n",
       "      <th>date</th>\n",
       "      <th></th>\n",
       "      <th></th>\n",
       "      <th></th>\n",
       "      <th></th>\n",
       "      <th></th>\n",
       "      <th></th>\n",
       "      <th></th>\n",
       "      <th></th>\n",
       "      <th></th>\n",
       "      <th></th>\n",
       "      <th></th>\n",
       "    </tr>\n",
       "  </thead>\n",
       "  <tbody>\n",
       "    <tr>\n",
       "      <th>2021-01-02</th>\n",
       "      <td>Jammu and Kashmir</td>\n",
       "      <td>21,322.0</td>\n",
       "      <td>0.0</td>\n",
       "      <td>21,322.0</td>\n",
       "      <td>0.0</td>\n",
       "      <td>0.0</td>\n",
       "      <td>0.0</td>\n",
       "      <td>0.0</td>\n",
       "      <td>0.0</td>\n",
       "      <td>0.0</td>\n",
       "      <td>0.0</td>\n",
       "    </tr>\n",
       "    <tr>\n",
       "      <th>2021-01-02</th>\n",
       "      <td>Haryana</td>\n",
       "      <td>96,304.0</td>\n",
       "      <td>3,567.0</td>\n",
       "      <td>92,737.0</td>\n",
       "      <td>0.0</td>\n",
       "      <td>0.0</td>\n",
       "      <td>0.0</td>\n",
       "      <td>0.0</td>\n",
       "      <td>0.0</td>\n",
       "      <td>0.0</td>\n",
       "      <td>0.0</td>\n",
       "    </tr>\n",
       "    <tr>\n",
       "      <th>2021-01-02</th>\n",
       "      <td>Kerala</td>\n",
       "      <td>173,482.0</td>\n",
       "      <td>0.0</td>\n",
       "      <td>173,482.0</td>\n",
       "      <td>0.0</td>\n",
       "      <td>0.0</td>\n",
       "      <td>0.0</td>\n",
       "      <td>0.0</td>\n",
       "      <td>0.0</td>\n",
       "      <td>0.0</td>\n",
       "      <td>0.0</td>\n",
       "    </tr>\n",
       "    <tr>\n",
       "      <th>2021-01-02</th>\n",
       "      <td>Gujarat</td>\n",
       "      <td>284,170.0</td>\n",
       "      <td>18,250.0</td>\n",
       "      <td>265,920.0</td>\n",
       "      <td>0.0</td>\n",
       "      <td>0.0</td>\n",
       "      <td>0.0</td>\n",
       "      <td>0.0</td>\n",
       "      <td>0.0</td>\n",
       "      <td>0.0</td>\n",
       "      <td>0.0</td>\n",
       "    </tr>\n",
       "    <tr>\n",
       "      <th>2021-01-02</th>\n",
       "      <td>Rajasthan</td>\n",
       "      <td>313,321.0</td>\n",
       "      <td>7,775.0</td>\n",
       "      <td>305,546.0</td>\n",
       "      <td>0.0</td>\n",
       "      <td>0.0</td>\n",
       "      <td>0.0</td>\n",
       "      <td>0.0</td>\n",
       "      <td>0.0</td>\n",
       "      <td>0.0</td>\n",
       "      <td>0.0</td>\n",
       "    </tr>\n",
       "  </tbody>\n",
       "</table>\n",
       "</div>"
      ],
      "text/plain": [
       "                        state  total_doses  covaxin  covishield  sputnik  \\\n",
       "date                                                                       \n",
       "2021-01-02  Jammu and Kashmir     21,322.0      0.0    21,322.0      0.0   \n",
       "2021-01-02            Haryana     96,304.0  3,567.0    92,737.0      0.0   \n",
       "2021-01-02             Kerala    173,482.0      0.0   173,482.0      0.0   \n",
       "2021-01-02            Gujarat    284,170.0 18,250.0   265,920.0      0.0   \n",
       "2021-01-02          Rajasthan    313,321.0  7,775.0   305,546.0      0.0   \n",
       "\n",
       "            AEFI  young_adults_vaccinated  midaged_vaccinated  \\\n",
       "date                                                            \n",
       "2021-01-02   0.0                      0.0                 0.0   \n",
       "2021-01-02   0.0                      0.0                 0.0   \n",
       "2021-01-02   0.0                      0.0                 0.0   \n",
       "2021-01-02   0.0                      0.0                 0.0   \n",
       "2021-01-02   0.0                      0.0                 0.0   \n",
       "\n",
       "            elderly_vaccinated  males_vaccinated  females_vaccinated  \n",
       "date                                                                  \n",
       "2021-01-02                 0.0               0.0                 0.0  \n",
       "2021-01-02                 0.0               0.0                 0.0  \n",
       "2021-01-02                 0.0               0.0                 0.0  \n",
       "2021-01-02                 0.0               0.0                 0.0  \n",
       "2021-01-02                 0.0               0.0                 0.0  "
      ]
     },
     "execution_count": 18,
     "metadata": {},
     "output_type": "execute_result"
    }
   ],
   "source": [
    "vaccine_df.head()"
   ]
  },
  {
   "cell_type": "code",
   "execution_count": 19,
   "id": "ddaadf11",
   "metadata": {},
   "outputs": [
    {
     "data": {
      "text/plain": [
       "Kerala                                      560\n",
       "Telangana                                   528\n",
       "Delhi                                       528\n",
       "Rajasthan                                   527\n",
       "Haryana                                     526\n",
       "Uttar Pradesh                               526\n",
       "Tamil Nadu                                  523\n",
       "Ladakh                                      523\n",
       "Karnataka                                   521\n",
       "Maharashtra                                 521\n",
       "Jammu and Kashmir                           521\n",
       "Punjab                                      521\n",
       "Andhra Pradesh                              518\n",
       "Uttarakhand                                 515\n",
       "Odisha                                      514\n",
       "West Bengal                                 512\n",
       "Puducherry                                  512\n",
       "Chandigarh                                  511\n",
       "Chhattisgarh                                511\n",
       "Gujarat                                     510\n",
       "Madhya Pradesh                              509\n",
       "Himachal Pradesh                            509\n",
       "Bihar                                       508\n",
       "Manipur                                     506\n",
       "Mizoram                                     505\n",
       "Andaman and Nicobar Islands                 504\n",
       "Goa                                         504\n",
       "Jharkhand                                   498\n",
       "Assam                                       498\n",
       "Arunachal Pradesh                           496\n",
       "Tripura                                     492\n",
       "Meghalaya                                   485\n",
       "Dadra and Nagar Haveli and Daman and Diu    464\n",
       "Nagaland                                    452\n",
       "Sikkim                                      445\n",
       "Lakshadweep                                 244\n",
       "Other                                        63\n",
       "Name: state, dtype: int64"
      ]
     },
     "execution_count": 19,
     "metadata": {},
     "output_type": "execute_result"
    }
   ],
   "source": [
    "df.state.value_counts()"
   ]
  },
  {
   "cell_type": "code",
   "execution_count": 20,
   "id": "641a349b",
   "metadata": {},
   "outputs": [
    {
     "data": {
      "text/plain": [
       "Delhi                                       213\n",
       "Telangana                                   212\n",
       "Puducherry                                  212\n",
       "Tripura                                     212\n",
       "Maharashtra                                 212\n",
       "Uttarakhand                                 212\n",
       "Andhra Pradesh                              212\n",
       "Gujarat                                     212\n",
       "Ladakh                                      212\n",
       "Manipur                                     212\n",
       "Chandigarh                                  212\n",
       "Andaman and Nicobar Islands                 212\n",
       "Goa                                         212\n",
       "Other                                       212\n",
       "Madhya Pradesh                              212\n",
       "Jammu and Kashmir                           212\n",
       "Tamil Nadu                                  212\n",
       "Rajasthan                                   212\n",
       "Odisha                                      212\n",
       "Sikkim                                      212\n",
       "Uttar Pradesh                               212\n",
       "Mizoram                                     212\n",
       "Punjab                                      212\n",
       "Karnataka                                   212\n",
       "Assam                                       212\n",
       "Nagaland                                    212\n",
       "Arunachal Pradesh                           212\n",
       "West Bengal                                 212\n",
       "Himachal Pradesh                            212\n",
       "Haryana                                     212\n",
       "Chhattisgarh                                212\n",
       "Dadra and Nagar Haveli and Daman and Diu    212\n",
       "Meghalaya                                   212\n",
       "Jharkhand                                   212\n",
       "Bihar                                       212\n",
       "Kerala                                      212\n",
       "Lakshadweep                                 212\n",
       "Name: state, dtype: int64"
      ]
     },
     "execution_count": 20,
     "metadata": {},
     "output_type": "execute_result"
    }
   ],
   "source": [
    "vaccine_df.state.value_counts()"
   ]
  },
  {
   "cell_type": "code",
   "execution_count": 21,
   "id": "6652f9ad",
   "metadata": {},
   "outputs": [
    {
     "data": {
      "text/html": [
       "<div>\n",
       "<style scoped>\n",
       "    .dataframe tbody tr th:only-of-type {\n",
       "        vertical-align: middle;\n",
       "    }\n",
       "\n",
       "    .dataframe tbody tr th {\n",
       "        vertical-align: top;\n",
       "    }\n",
       "\n",
       "    .dataframe thead th {\n",
       "        text-align: right;\n",
       "    }\n",
       "</style>\n",
       "<table border=\"1\" class=\"dataframe\">\n",
       "  <thead>\n",
       "    <tr style=\"text-align: right;\">\n",
       "      <th></th>\n",
       "      <th>state</th>\n",
       "      <th>cured</th>\n",
       "      <th>deaths</th>\n",
       "      <th>month</th>\n",
       "      <th>total_doses</th>\n",
       "      <th>covaxin</th>\n",
       "      <th>covishield</th>\n",
       "      <th>sputnik</th>\n",
       "      <th>AEFI</th>\n",
       "      <th>young_adults_vaccinated</th>\n",
       "      <th>midaged_vaccinated</th>\n",
       "      <th>elderly_vaccinated</th>\n",
       "      <th>males_vaccinated</th>\n",
       "      <th>females_vaccinated</th>\n",
       "    </tr>\n",
       "  </thead>\n",
       "  <tbody>\n",
       "    <tr>\n",
       "      <th>0</th>\n",
       "      <td>1</td>\n",
       "      <td>0</td>\n",
       "      <td>0</td>\n",
       "      <td>3</td>\n",
       "      <td>69,462.0</td>\n",
       "      <td>4,863.0</td>\n",
       "      <td>64,599.0</td>\n",
       "      <td>0.0</td>\n",
       "      <td>0.0</td>\n",
       "      <td>0.0</td>\n",
       "      <td>0.0</td>\n",
       "      <td>0.0</td>\n",
       "      <td>0.0</td>\n",
       "      <td>0.0</td>\n",
       "    </tr>\n",
       "    <tr>\n",
       "      <th>1</th>\n",
       "      <td>1</td>\n",
       "      <td>0</td>\n",
       "      <td>0</td>\n",
       "      <td>3</td>\n",
       "      <td>443,842.0</td>\n",
       "      <td>79,096.0</td>\n",
       "      <td>314,923.0</td>\n",
       "      <td>0.0</td>\n",
       "      <td>0.0</td>\n",
       "      <td>0.0</td>\n",
       "      <td>0.0</td>\n",
       "      <td>0.0</td>\n",
       "      <td>0.0</td>\n",
       "      <td>0.0</td>\n",
       "    </tr>\n",
       "    <tr>\n",
       "      <th>2</th>\n",
       "      <td>1</td>\n",
       "      <td>0</td>\n",
       "      <td>0</td>\n",
       "      <td>3</td>\n",
       "      <td>1,493,167.0</td>\n",
       "      <td>373,679.0</td>\n",
       "      <td>1,119,488.0</td>\n",
       "      <td>0.0</td>\n",
       "      <td>687.0</td>\n",
       "      <td>284,791.0</td>\n",
       "      <td>417,320.0</td>\n",
       "      <td>509,140.0</td>\n",
       "      <td>0.0</td>\n",
       "      <td>0.0</td>\n",
       "    </tr>\n",
       "    <tr>\n",
       "      <th>3</th>\n",
       "      <td>1</td>\n",
       "      <td>0</td>\n",
       "      <td>0</td>\n",
       "      <td>3</td>\n",
       "      <td>3,415,728.0</td>\n",
       "      <td>1,054,775.0</td>\n",
       "      <td>2,360,953.0</td>\n",
       "      <td>0.0</td>\n",
       "      <td>810.0</td>\n",
       "      <td>450,157.0</td>\n",
       "      <td>1,319,948.0</td>\n",
       "      <td>906,172.0</td>\n",
       "      <td>0.0</td>\n",
       "      <td>0.0</td>\n",
       "    </tr>\n",
       "    <tr>\n",
       "      <th>4</th>\n",
       "      <td>1</td>\n",
       "      <td>0</td>\n",
       "      <td>0</td>\n",
       "      <td>3</td>\n",
       "      <td>5,559,386.0</td>\n",
       "      <td>1,687,996.0</td>\n",
       "      <td>3,871,390.0</td>\n",
       "      <td>0.0</td>\n",
       "      <td>947.0</td>\n",
       "      <td>1,596,795.0</td>\n",
       "      <td>1,667,590.0</td>\n",
       "      <td>1,027,440.0</td>\n",
       "      <td>0.0</td>\n",
       "      <td>0.0</td>\n",
       "    </tr>\n",
       "    <tr>\n",
       "      <th>...</th>\n",
       "      <td>...</td>\n",
       "      <td>...</td>\n",
       "      <td>...</td>\n",
       "      <td>...</td>\n",
       "      <td>...</td>\n",
       "      <td>...</td>\n",
       "      <td>...</td>\n",
       "      <td>...</td>\n",
       "      <td>...</td>\n",
       "      <td>...</td>\n",
       "      <td>...</td>\n",
       "      <td>...</td>\n",
       "      <td>...</td>\n",
       "      <td>...</td>\n",
       "    </tr>\n",
       "    <tr>\n",
       "      <th>28174</th>\n",
       "      <td>3</td>\n",
       "      <td>254874</td>\n",
       "      <td>3863</td>\n",
       "      <td>2</td>\n",
       "      <td>716,682.0</td>\n",
       "      <td>119,504.0</td>\n",
       "      <td>519,921.0</td>\n",
       "      <td>0.0</td>\n",
       "      <td>0.0</td>\n",
       "      <td>0.0</td>\n",
       "      <td>0.0</td>\n",
       "      <td>0.0</td>\n",
       "      <td>0.0</td>\n",
       "      <td>0.0</td>\n",
       "    </tr>\n",
       "    <tr>\n",
       "      <th>28175</th>\n",
       "      <td>3</td>\n",
       "      <td>254874</td>\n",
       "      <td>3863</td>\n",
       "      <td>2</td>\n",
       "      <td>773,228.0</td>\n",
       "      <td>120,126.0</td>\n",
       "      <td>522,745.0</td>\n",
       "      <td>0.0</td>\n",
       "      <td>0.0</td>\n",
       "      <td>0.0</td>\n",
       "      <td>0.0</td>\n",
       "      <td>0.0</td>\n",
       "      <td>0.0</td>\n",
       "      <td>0.0</td>\n",
       "    </tr>\n",
       "    <tr>\n",
       "      <th>28176</th>\n",
       "      <td>3</td>\n",
       "      <td>254874</td>\n",
       "      <td>3863</td>\n",
       "      <td>2</td>\n",
       "      <td>804,378.0</td>\n",
       "      <td>120,373.0</td>\n",
       "      <td>524,343.0</td>\n",
       "      <td>0.0</td>\n",
       "      <td>0.0</td>\n",
       "      <td>0.0</td>\n",
       "      <td>0.0</td>\n",
       "      <td>0.0</td>\n",
       "      <td>0.0</td>\n",
       "      <td>0.0</td>\n",
       "    </tr>\n",
       "    <tr>\n",
       "      <th>28177</th>\n",
       "      <td>3</td>\n",
       "      <td>254874</td>\n",
       "      <td>3863</td>\n",
       "      <td>2</td>\n",
       "      <td>804,378.0</td>\n",
       "      <td>120,373.0</td>\n",
       "      <td>524,343.0</td>\n",
       "      <td>0.0</td>\n",
       "      <td>0.0</td>\n",
       "      <td>0.0</td>\n",
       "      <td>0.0</td>\n",
       "      <td>0.0</td>\n",
       "      <td>0.0</td>\n",
       "      <td>0.0</td>\n",
       "    </tr>\n",
       "    <tr>\n",
       "      <th>28178</th>\n",
       "      <td>3</td>\n",
       "      <td>254874</td>\n",
       "      <td>3863</td>\n",
       "      <td>2</td>\n",
       "      <td>804,378.0</td>\n",
       "      <td>120,373.0</td>\n",
       "      <td>524,343.0</td>\n",
       "      <td>0.0</td>\n",
       "      <td>0.0</td>\n",
       "      <td>0.0</td>\n",
       "      <td>0.0</td>\n",
       "      <td>0.0</td>\n",
       "      <td>0.0</td>\n",
       "      <td>0.0</td>\n",
       "    </tr>\n",
       "  </tbody>\n",
       "</table>\n",
       "<p>28179 rows × 14 columns</p>\n",
       "</div>"
      ],
      "text/plain": [
       "       state   cured  deaths  month  total_doses     covaxin  covishield  \\\n",
       "0          1       0       0      3     69,462.0     4,863.0    64,599.0   \n",
       "1          1       0       0      3    443,842.0    79,096.0   314,923.0   \n",
       "2          1       0       0      3  1,493,167.0   373,679.0 1,119,488.0   \n",
       "3          1       0       0      3  3,415,728.0 1,054,775.0 2,360,953.0   \n",
       "4          1       0       0      3  5,559,386.0 1,687,996.0 3,871,390.0   \n",
       "...      ...     ...     ...    ...          ...         ...         ...   \n",
       "28174      3  254874    3863      2    716,682.0   119,504.0   519,921.0   \n",
       "28175      3  254874    3863      2    773,228.0   120,126.0   522,745.0   \n",
       "28176      3  254874    3863      2    804,378.0   120,373.0   524,343.0   \n",
       "28177      3  254874    3863      2    804,378.0   120,373.0   524,343.0   \n",
       "28178      3  254874    3863      2    804,378.0   120,373.0   524,343.0   \n",
       "\n",
       "       sputnik  AEFI  young_adults_vaccinated  midaged_vaccinated  \\\n",
       "0          0.0   0.0                      0.0                 0.0   \n",
       "1          0.0   0.0                      0.0                 0.0   \n",
       "2          0.0 687.0                284,791.0           417,320.0   \n",
       "3          0.0 810.0                450,157.0         1,319,948.0   \n",
       "4          0.0 947.0              1,596,795.0         1,667,590.0   \n",
       "...        ...   ...                      ...                 ...   \n",
       "28174      0.0   0.0                      0.0                 0.0   \n",
       "28175      0.0   0.0                      0.0                 0.0   \n",
       "28176      0.0   0.0                      0.0                 0.0   \n",
       "28177      0.0   0.0                      0.0                 0.0   \n",
       "28178      0.0   0.0                      0.0                 0.0   \n",
       "\n",
       "       elderly_vaccinated  males_vaccinated  females_vaccinated  \n",
       "0                     0.0               0.0                 0.0  \n",
       "1                     0.0               0.0                 0.0  \n",
       "2               509,140.0               0.0                 0.0  \n",
       "3               906,172.0               0.0                 0.0  \n",
       "4             1,027,440.0               0.0                 0.0  \n",
       "...                   ...               ...                 ...  \n",
       "28174                 0.0               0.0                 0.0  \n",
       "28175                 0.0               0.0                 0.0  \n",
       "28176                 0.0               0.0                 0.0  \n",
       "28177                 0.0               0.0                 0.0  \n",
       "28178                 0.0               0.0                 0.0  \n",
       "\n",
       "[28179 rows x 14 columns]"
      ]
     },
     "execution_count": 21,
     "metadata": {},
     "output_type": "execute_result"
    }
   ],
   "source": [
    "def combine_data(df, vaccine_df):\n",
    "    df['month'] = df.index.month\n",
    "    vaccine_df['month'] = vaccine_df.index.month\n",
    "    \n",
    "    df = df.reset_index()\n",
    "    vaccine_df = vaccine_df.reset_index()\n",
    "    \n",
    "    df = df.drop(columns='date')\n",
    "    vaccine_df = vaccine_df.drop(columns='date')\n",
    "    \n",
    "    # The other df only goes to month 8, so we will cap this df at 8\n",
    "    # The year does not change in this dataset\n",
    "    vaccine_df = vaccine_df[vaccine_df.month <= 8]\n",
    "    \n",
    "    # Sorting by state and then merging the two dataframes side-by-side\n",
    "    # Drop one state or we will have two state columns after merging\n",
    "    delhi_d = df[df.state == 'Delhi']\n",
    "    delhi_v = vaccine_df[vaccine_df.state == 'Delhi'].drop(columns='state')\n",
    "    delhi_s = pd.merge(delhi_d, delhi_v, on='month')\n",
    "    \n",
    "    tamil_d = df[df.state == 'Tamil Nadu']\n",
    "    tamil_v = vaccine_df[vaccine_df.state == 'Tamil Nadu'].drop(columns='state')\n",
    "    tamil_s = pd.merge(tamil_d, tamil_v, on='month')\n",
    "    \n",
    "    madhya_d = df[df.state == 'Madhya Pradesh']\n",
    "    madhya_v = vaccine_df[vaccine_df.state == 'Madhya Pradesh'].drop(columns='state')\n",
    "    madhya_s = pd.merge(madhya_d, madhya_v, on='month')\n",
    "    \n",
    "    \n",
    "    # List of dataframes to be concatenated\n",
    "    frames = [delhi_s, tamil_s, madhya_s]\n",
    "    \n",
    "    # Concatenate the dataframes\n",
    "    # Dataframes are stacked below each other, ignoring the index\n",
    "    sum_df = pd.concat(frames, ignore_index=True, axis=0)\n",
    "    \n",
    "    # Replace state names with numbers so that they may be used for calculations\n",
    "    sum_df = sum_df.replace('Delhi', 1)\n",
    "    sum_df = sum_df.replace('Tamil Nadu', 2)\n",
    "    sum_df = sum_df.replace('Madhya Pradesh', 3)\n",
    "    \n",
    "    return sum_df\n",
    "       \n",
    "sum_df = combine_data(df, vaccine_df)\n",
    "sum_df"
   ]
  },
  {
   "cell_type": "markdown",
   "id": "caffab6d",
   "metadata": {},
   "source": [
    "### Three states were chosen for examination.\n",
    "### The states were assigned numbers so that they could be a variable in statistical tests.\n",
    "Delhi: 1 <br>\n",
    "Tamil Nadu: 2 <br>\n",
    "Madhya Pradesh: 3 <br> <br>"
   ]
  },
  {
   "cell_type": "code",
   "execution_count": 22,
   "id": "d3384ef2",
   "metadata": {},
   "outputs": [
    {
     "data": {
      "text/plain": [
       "1    9629\n",
       "2    9457\n",
       "3    9093\n",
       "Name: state, dtype: int64"
      ]
     },
     "execution_count": 22,
     "metadata": {},
     "output_type": "execute_result"
    }
   ],
   "source": [
    "sum_df.state.value_counts()"
   ]
  },
  {
   "cell_type": "code",
   "execution_count": 23,
   "id": "6c6231cf",
   "metadata": {},
   "outputs": [
    {
     "data": {
      "text/plain": [
       "5    4836\n",
       "7    4836\n",
       "4    4500\n",
       "6    4500\n",
       "3    4134\n",
       "1    2139\n",
       "2    1932\n",
       "8    1302\n",
       "Name: month, dtype: int64"
      ]
     },
     "execution_count": 23,
     "metadata": {},
     "output_type": "execute_result"
    }
   ],
   "source": [
    "sum_df.month.value_counts()"
   ]
  },
  {
   "cell_type": "code",
   "execution_count": 24,
   "id": "c8ba6e16",
   "metadata": {},
   "outputs": [
    {
     "name": "stdout",
     "output_type": "stream",
     "text": [
      "<class 'pandas.core.frame.DataFrame'>\n",
      "RangeIndex: 28179 entries, 0 to 28178\n",
      "Data columns (total 14 columns):\n",
      " #   Column                   Non-Null Count  Dtype  \n",
      "---  ------                   --------------  -----  \n",
      " 0   state                    28179 non-null  int64  \n",
      " 1   cured                    28179 non-null  int64  \n",
      " 2   deaths                   28179 non-null  int64  \n",
      " 3   month                    28179 non-null  int64  \n",
      " 4   total_doses              28179 non-null  float64\n",
      " 5   covaxin                  28179 non-null  float64\n",
      " 6   covishield               28179 non-null  float64\n",
      " 7   sputnik                  28179 non-null  float64\n",
      " 8   AEFI                     28179 non-null  float64\n",
      " 9   young_adults_vaccinated  28179 non-null  float64\n",
      " 10  midaged_vaccinated       28179 non-null  float64\n",
      " 11  elderly_vaccinated       28179 non-null  float64\n",
      " 12  males_vaccinated         28179 non-null  float64\n",
      " 13  females_vaccinated       28179 non-null  float64\n",
      "dtypes: float64(10), int64(4)\n",
      "memory usage: 3.0 MB\n"
     ]
    }
   ],
   "source": [
    "# 'state' has int64 type, so it can be used for calculations\n",
    "sum_df.info()"
   ]
  },
  {
   "cell_type": "code",
   "execution_count": 25,
   "id": "40c7b57d",
   "metadata": {},
   "outputs": [
    {
     "data": {
      "text/html": [
       "<div>\n",
       "<style scoped>\n",
       "    .dataframe tbody tr th:only-of-type {\n",
       "        vertical-align: middle;\n",
       "    }\n",
       "\n",
       "    .dataframe tbody tr th {\n",
       "        vertical-align: top;\n",
       "    }\n",
       "\n",
       "    .dataframe thead th {\n",
       "        text-align: right;\n",
       "    }\n",
       "</style>\n",
       "<table border=\"1\" class=\"dataframe\">\n",
       "  <thead>\n",
       "    <tr style=\"text-align: right;\">\n",
       "      <th></th>\n",
       "      <th>count</th>\n",
       "      <th>mean</th>\n",
       "      <th>std</th>\n",
       "      <th>min</th>\n",
       "      <th>25%</th>\n",
       "      <th>50%</th>\n",
       "      <th>75%</th>\n",
       "      <th>max</th>\n",
       "    </tr>\n",
       "  </thead>\n",
       "  <tbody>\n",
       "    <tr>\n",
       "      <th>state</th>\n",
       "      <td>28,179.0</td>\n",
       "      <td>1.9809787430355938</td>\n",
       "      <td>0.8148970666696392</td>\n",
       "      <td>1.0</td>\n",
       "      <td>1.0</td>\n",
       "      <td>2.0</td>\n",
       "      <td>3.0</td>\n",
       "      <td>3.0</td>\n",
       "    </tr>\n",
       "    <tr>\n",
       "      <th>cured</th>\n",
       "      <td>28,179.0</td>\n",
       "      <td>557,229.4399375422</td>\n",
       "      <td>638,619.4633498784</td>\n",
       "      <td>0.0</td>\n",
       "      <td>9,804.0</td>\n",
       "      <td>277,484.0</td>\n",
       "      <td>828,441.0</td>\n",
       "      <td>2,524,400.0</td>\n",
       "    </tr>\n",
       "    <tr>\n",
       "      <th>deaths</th>\n",
       "      <td>28,179.0</td>\n",
       "      <td>8,485.53050143724</td>\n",
       "      <td>9,264.836433269156</td>\n",
       "      <td>0.0</td>\n",
       "      <td>435.0</td>\n",
       "      <td>4,235.0</td>\n",
       "      <td>12,425.0</td>\n",
       "      <td>34,367.0</td>\n",
       "    </tr>\n",
       "    <tr>\n",
       "      <th>month</th>\n",
       "      <td>28,179.0</td>\n",
       "      <td>4.679122750984776</td>\n",
       "      <td>1.9332004820278503</td>\n",
       "      <td>1.0</td>\n",
       "      <td>3.0</td>\n",
       "      <td>5.0</td>\n",
       "      <td>6.0</td>\n",
       "      <td>8.0</td>\n",
       "    </tr>\n",
       "    <tr>\n",
       "      <th>total_doses</th>\n",
       "      <td>28,179.0</td>\n",
       "      <td>8,005,072.918875759</td>\n",
       "      <td>8,000,295.274909517</td>\n",
       "      <td>0.0</td>\n",
       "      <td>1,294,057.0</td>\n",
       "      <td>6,094,030.0</td>\n",
       "      <td>10,381,633.0</td>\n",
       "      <td>34,901,221.0</td>\n",
       "    </tr>\n",
       "    <tr>\n",
       "      <th>covaxin</th>\n",
       "      <td>28,179.0</td>\n",
       "      <td>1,249,405.879591185</td>\n",
       "      <td>1,087,747.1728877272</td>\n",
       "      <td>0.0</td>\n",
       "      <td>217,158.0</td>\n",
       "      <td>1,023,820.0</td>\n",
       "      <td>2,103,455.0</td>\n",
       "      <td>3,793,500.0</td>\n",
       "    </tr>\n",
       "    <tr>\n",
       "      <th>covishield</th>\n",
       "      <td>28,179.0</td>\n",
       "      <td>6,745,927.587565208</td>\n",
       "      <td>7,023,150.103453053</td>\n",
       "      <td>0.0</td>\n",
       "      <td>1,080,010.0</td>\n",
       "      <td>4,590,051.0</td>\n",
       "      <td>8,685,808.0</td>\n",
       "      <td>31,218,147.0</td>\n",
       "    </tr>\n",
       "    <tr>\n",
       "      <th>sputnik</th>\n",
       "      <td>28,179.0</td>\n",
       "      <td>3,782.926292629263</td>\n",
       "      <td>9,184.519012811194</td>\n",
       "      <td>0.0</td>\n",
       "      <td>0.0</td>\n",
       "      <td>0.0</td>\n",
       "      <td>525.0</td>\n",
       "      <td>44,856.0</td>\n",
       "    </tr>\n",
       "    <tr>\n",
       "      <th>AEFI</th>\n",
       "      <td>28,179.0</td>\n",
       "      <td>421.8265374924589</td>\n",
       "      <td>377.7614784751564</td>\n",
       "      <td>0.0</td>\n",
       "      <td>85.0</td>\n",
       "      <td>316.0</td>\n",
       "      <td>809.0</td>\n",
       "      <td>1,068.0</td>\n",
       "    </tr>\n",
       "    <tr>\n",
       "      <th>young_adults_vaccinated</th>\n",
       "      <td>28,179.0</td>\n",
       "      <td>740,988.1384719117</td>\n",
       "      <td>1,303,233.3118194095</td>\n",
       "      <td>0.0</td>\n",
       "      <td>0.0</td>\n",
       "      <td>277,349.0</td>\n",
       "      <td>846,393.0</td>\n",
       "      <td>8,342,482.0</td>\n",
       "    </tr>\n",
       "    <tr>\n",
       "      <th>midaged_vaccinated</th>\n",
       "      <td>28,179.0</td>\n",
       "      <td>1,123,987.6759643706</td>\n",
       "      <td>1,361,101.9016262991</td>\n",
       "      <td>0.0</td>\n",
       "      <td>0.0</td>\n",
       "      <td>303,641.0</td>\n",
       "      <td>2,042,371.0</td>\n",
       "      <td>4,743,089.0</td>\n",
       "    </tr>\n",
       "    <tr>\n",
       "      <th>elderly_vaccinated</th>\n",
       "      <td>28,179.0</td>\n",
       "      <td>899,204.2946875333</td>\n",
       "      <td>1,080,614.2311095693</td>\n",
       "      <td>0.0</td>\n",
       "      <td>0.0</td>\n",
       "      <td>439,669.0</td>\n",
       "      <td>1,672,879.0</td>\n",
       "      <td>3,420,102.0</td>\n",
       "    </tr>\n",
       "    <tr>\n",
       "      <th>males_vaccinated</th>\n",
       "      <td>28,179.0</td>\n",
       "      <td>0.0</td>\n",
       "      <td>0.0</td>\n",
       "      <td>0.0</td>\n",
       "      <td>0.0</td>\n",
       "      <td>0.0</td>\n",
       "      <td>0.0</td>\n",
       "      <td>0.0</td>\n",
       "    </tr>\n",
       "    <tr>\n",
       "      <th>females_vaccinated</th>\n",
       "      <td>28,179.0</td>\n",
       "      <td>0.0</td>\n",
       "      <td>0.0</td>\n",
       "      <td>0.0</td>\n",
       "      <td>0.0</td>\n",
       "      <td>0.0</td>\n",
       "      <td>0.0</td>\n",
       "      <td>0.0</td>\n",
       "    </tr>\n",
       "  </tbody>\n",
       "</table>\n",
       "</div>"
      ],
      "text/plain": [
       "                           count                 mean                  std  \\\n",
       "state                   28,179.0   1.9809787430355938   0.8148970666696392   \n",
       "cured                   28,179.0   557,229.4399375422   638,619.4633498784   \n",
       "deaths                  28,179.0    8,485.53050143724   9,264.836433269156   \n",
       "month                   28,179.0    4.679122750984776   1.9332004820278503   \n",
       "total_doses             28,179.0  8,005,072.918875759  8,000,295.274909517   \n",
       "covaxin                 28,179.0  1,249,405.879591185 1,087,747.1728877272   \n",
       "covishield              28,179.0  6,745,927.587565208  7,023,150.103453053   \n",
       "sputnik                 28,179.0   3,782.926292629263   9,184.519012811194   \n",
       "AEFI                    28,179.0    421.8265374924589    377.7614784751564   \n",
       "young_adults_vaccinated 28,179.0   740,988.1384719117 1,303,233.3118194095   \n",
       "midaged_vaccinated      28,179.0 1,123,987.6759643706 1,361,101.9016262991   \n",
       "elderly_vaccinated      28,179.0   899,204.2946875333 1,080,614.2311095693   \n",
       "males_vaccinated        28,179.0                  0.0                  0.0   \n",
       "females_vaccinated      28,179.0                  0.0                  0.0   \n",
       "\n",
       "                         min         25%         50%          75%          max  \n",
       "state                    1.0         1.0         2.0          3.0          3.0  \n",
       "cured                    0.0     9,804.0   277,484.0    828,441.0  2,524,400.0  \n",
       "deaths                   0.0       435.0     4,235.0     12,425.0     34,367.0  \n",
       "month                    1.0         3.0         5.0          6.0          8.0  \n",
       "total_doses              0.0 1,294,057.0 6,094,030.0 10,381,633.0 34,901,221.0  \n",
       "covaxin                  0.0   217,158.0 1,023,820.0  2,103,455.0  3,793,500.0  \n",
       "covishield               0.0 1,080,010.0 4,590,051.0  8,685,808.0 31,218,147.0  \n",
       "sputnik                  0.0         0.0         0.0        525.0     44,856.0  \n",
       "AEFI                     0.0        85.0       316.0        809.0      1,068.0  \n",
       "young_adults_vaccinated  0.0         0.0   277,349.0    846,393.0  8,342,482.0  \n",
       "midaged_vaccinated       0.0         0.0   303,641.0  2,042,371.0  4,743,089.0  \n",
       "elderly_vaccinated       0.0         0.0   439,669.0  1,672,879.0  3,420,102.0  \n",
       "males_vaccinated         0.0         0.0         0.0          0.0          0.0  \n",
       "females_vaccinated       0.0         0.0         0.0          0.0          0.0  "
      ]
     },
     "execution_count": 25,
     "metadata": {},
     "output_type": "execute_result"
    }
   ],
   "source": [
    "sum_df.describe().T"
   ]
  },
  {
   "cell_type": "code",
   "execution_count": 26,
   "id": "fb3bd36d",
   "metadata": {},
   "outputs": [
    {
     "data": {
      "image/png": "[encoded data removed]",
      "text/plain": [
       "<Figure size 864x288 with 1 Axes>"
      ]
     },
     "metadata": {
      "needs_background": "light"
     },
     "output_type": "display_data"
    },
    {
     "data": {
      "image/png": "[encoded data removed]",
      "text/plain": [
       "<Figure size 864x288 with 1 Axes>"
      ]
     },
     "metadata": {
      "needs_background": "light"
     },
     "output_type": "display_data"
    },
    {
     "data": {
      "image/png": "[encoded data removed]",
      "text/plain": [
       "<Figure size 864x288 with 1 Axes>"
      ]
     },
     "metadata": {
      "needs_background": "light"
     },
     "output_type": "display_data"
    },
    {
     "data": {
      "image/png": "[encoded data removed]",
      "text/plain": [
       "<Figure size 864x288 with 1 Axes>"
      ]
     },
     "metadata": {
      "needs_background": "light"
     },
     "output_type": "display_data"
    },
    {
     "data": {
      "image/png": "[encoded data removed]",
      "text/plain": [
       "<Figure size 864x288 with 1 Axes>"
      ]
     },
     "metadata": {
      "needs_background": "light"
     },
     "output_type": "display_data"
    },
    {
     "data": {
      "image/png": "[encoded data removed]",
      "text/plain": [
       "<Figure size 864x288 with 1 Axes>"
      ]
     },
     "metadata": {
      "needs_background": "light"
     },
     "output_type": "display_data"
    },
    {
     "data": {
      "image/png": "[encoded data removed]",
      "text/plain": [
       "<Figure size 864x288 with 1 Axes>"
      ]
     },
     "metadata": {
      "needs_background": "light"
     },
     "output_type": "display_data"
    },
    {
     "data": {
      "image/png": "[encoded data removed]",
      "text/plain": [
       "<Figure size 864x288 with 1 Axes>"
      ]
     },
     "metadata": {
      "needs_background": "light"
     },
     "output_type": "display_data"
    },
    {
     "data": {
      "image/png": "[encoded data removed]",
      "text/plain": [
       "<Figure size 864x288 with 1 Axes>"
      ]
     },
     "metadata": {
      "needs_background": "light"
     },
     "output_type": "display_data"
    },
    {
     "data": {
      "image/png": "[encoded data removed]",
      "text/plain": [
       "<Figure size 864x288 with 1 Axes>"
      ]
     },
     "metadata": {
      "needs_background": "light"
     },
     "output_type": "display_data"
    },
    {
     "data": {
      "image/png": "[encoded data removed]",
      "text/plain": [
       "<Figure size 864x288 with 1 Axes>"
      ]
     },
     "metadata": {
      "needs_background": "light"
     },
     "output_type": "display_data"
    },
    {
     "data": {
      "image/png": "[encoded data removed]",
      "text/plain": [
       "<Figure size 864x288 with 1 Axes>"
      ]
     },
     "metadata": {
      "needs_background": "light"
     },
     "output_type": "display_data"
    },
    {
     "data": {
      "image/png": "[encoded data removed]",
      "text/plain": [
       "<Figure size 864x288 with 1 Axes>"
      ]
     },
     "metadata": {
      "needs_background": "light"
     },
     "output_type": "display_data"
    },
    {
     "data": {
      "image/png": "[encoded data removed]",
      "text/plain": [
       "<Figure size 864x288 with 1 Axes>"
      ]
     },
     "metadata": {
      "needs_background": "light"
     },
     "output_type": "display_data"
    }
   ],
   "source": [
    "# Take a look at the data\n",
    "for col in sum_df.columns:\n",
    "    plt.figure(figsize=(12,4))\n",
    "    sum_df[col].hist()\n",
    "    plt.ylabel(col)\n",
    "    plt.title(col)\n",
    "    plt.show()"
   ]
  },
  {
   "cell_type": "markdown",
   "id": "7cadf66e",
   "metadata": {},
   "source": [
    "### Takeaways for Prepare:\n",
    "- Organized the two dataframes by month and state, and then combined the dataframes\n",
    "- Huge short-lived spikes when looking at daily periods, observations may have been saved for reporting dates\n",
    "- Both cured and deaths start out high and then decrease over time\n",
    "- AEFI starts high, decreases largely, then slightly increases towards the end\n",
    "- Vaccination in general starts high, and then decreases"
   ]
  },
  {
   "cell_type": "markdown",
   "id": "b91b6c42",
   "metadata": {},
   "source": [
    "# Explore"
   ]
  },
  {
   "cell_type": "code",
   "execution_count": 27,
   "id": "669f1ec8",
   "metadata": {},
   "outputs": [
    {
     "data": {
      "text/plain": [
       "Text(0, 0.5, 'Cured')"
      ]
     },
     "execution_count": 27,
     "metadata": {},
     "output_type": "execute_result"
    },
    {
     "data": {
      "image/png": "[encoded data removed]",
      "text/plain": [
       "<Figure size 432x288 with 1 Axes>"
      ]
     },
     "metadata": {
      "needs_background": "light"
     },
     "output_type": "display_data"
    }
   ],
   "source": [
    "# Some plots have smooth curves\n",
    "\n",
    "# This plot has multiple overlapping curves\n",
    "\n",
    "# There are probably different groups with different survival rates\n",
    "\n",
    "plt.scatter(df.index, df.cured)\n",
    "plt.xlabel('Time')\n",
    "plt.ylabel('Cured')"
   ]
  },
  {
   "cell_type": "code",
   "execution_count": 28,
   "id": "20886b92",
   "metadata": {},
   "outputs": [
    {
     "data": {
      "text/plain": [
       "Text(0, 0.5, 'Total Doses Administered')"
      ]
     },
     "execution_count": 28,
     "metadata": {},
     "output_type": "execute_result"
    },
    {
     "data": {
      "image/png": "[encoded data removed]",
      "text/plain": [
       "<Figure size 432x288 with 1 Axes>"
      ]
     },
     "metadata": {
      "needs_background": "light"
     },
     "output_type": "display_data"
    }
   ],
   "source": [
    "# Much of the vaccination data has large short-lived spikes\n",
    "\n",
    "# This may be because clinics are holding their data until a periodic reporting date\n",
    "\n",
    "# Different clinics may also have different procedures for reporting\n",
    "\n",
    "# These spikes can be removed by resampling by month\n",
    "\n",
    "plt.scatter(vaccine_df.index, vaccine_df.total_doses)\n",
    "plt.xlabel('Time')\n",
    "plt.ylabel('Total Doses Administered')"
   ]
  },
  {
   "cell_type": "code",
   "execution_count": 29,
   "id": "c81537b0",
   "metadata": {},
   "outputs": [
    {
     "data": {
      "image/png": "[encoded data removed]",
      "text/plain": [
       "<Figure size 656x216 with 3 Axes>"
      ]
     },
     "metadata": {
      "needs_background": "light"
     },
     "output_type": "display_data"
    }
   ],
   "source": [
    "# Data is resampled by month and grouped by state\n",
    "# This addresses issues with visualization,\n",
    "# and makes data manipulation easier\n",
    "\n",
    "grid = sns.FacetGrid(sum_df, col='state')\n",
    "grid.map(sns.lineplot, 'month', 'cured')\n",
    "grid.add_legend()\n",
    "plt.show()"
   ]
  },
  {
   "cell_type": "code",
   "execution_count": 30,
   "id": "dff2a8f9",
   "metadata": {},
   "outputs": [
    {
     "data": {
      "image/png": "[encoded data removed]",
      "text/plain": [
       "<Figure size 656x216 with 3 Axes>"
      ]
     },
     "metadata": {
      "needs_background": "light"
     },
     "output_type": "display_data"
    }
   ],
   "source": [
    "# The plots for cured and deaths appear almost identical\n",
    "\n",
    "# This is because more infections means more of both cured and deaths\n",
    "\n",
    "# Since cured/deaths are similar between states, the effictiveness\n",
    "# of treating infected may also be similar between states\n",
    "\n",
    "# The spread of infection probably differs greatly by state\n",
    "\n",
    "# The curves for Delhi and Tamil Nadu have similar shapes\n",
    "# The curve for Madhya appears suppressed\n",
    "# This trend occurs for both cured and deaths\n",
    "# Madhya Pradesh may have less spread of infection\n",
    "\n",
    "grid = sns.FacetGrid(sum_df, col='state')\n",
    "grid.map(sns.lineplot, 'month', 'deaths')\n",
    "grid.add_legend()\n",
    "plt.show()"
   ]
  },
  {
   "cell_type": "code",
   "execution_count": 31,
   "id": "15de9674",
   "metadata": {},
   "outputs": [
    {
     "data": {
      "image/png": "[encoded data removed]",
      "text/plain": [
       "<Figure size 656x216 with 3 Axes>"
      ]
     },
     "metadata": {
      "needs_background": "light"
     },
     "output_type": "display_data"
    }
   ],
   "source": [
    "# Total doses administered increases to a peak, then drops sharply\n",
    "grid = sns.FacetGrid(sum_df, col='state')\n",
    "grid.map(sns.lineplot, 'month', 'total_doses')\n",
    "grid.add_legend()\n",
    "plt.show()"
   ]
  },
  {
   "cell_type": "code",
   "execution_count": 32,
   "id": "83f3377b",
   "metadata": {},
   "outputs": [
    {
     "data": {
      "image/png": "[encoded data removed]",
      "text/plain": [
       "<Figure size 656x216 with 3 Axes>"
      ]
     },
     "metadata": {
      "needs_background": "light"
     },
     "output_type": "display_data"
    }
   ],
   "source": [
    "grid = sns.FacetGrid(sum_df, col='state')\n",
    "grid.map(sns.lineplot, 'month', 'AEFI')\n",
    "grid.add_legend()\n",
    "plt.show()"
   ]
  },
  {
   "cell_type": "code",
   "execution_count": 33,
   "id": "ae9b9ebb",
   "metadata": {},
   "outputs": [
    {
     "data": {
      "image/png": "[encoded data removed]",
      "text/plain": [
       "<Figure size 734.125x216 with 3 Axes>"
      ]
     },
     "metadata": {
      "needs_background": "light"
     },
     "output_type": "display_data"
    }
   ],
   "source": [
    "# In terms of doses administered:\n",
    "# covishield >> covaxin > sputnik\n",
    "# Vaccination increase over time and peaks at 7 months, then drops\n",
    "grid = sns.FacetGrid(sum_df, col='state')\n",
    "grid.map(sns.lineplot, 'month', 'covaxin', label='covaxin', color='red')\n",
    "grid.map(sns.lineplot, 'month', 'covishield', label='covishield', color='blue')\n",
    "grid.map(sns.lineplot, 'month', 'sputnik', label='sputnik', color='yellow')\n",
    "grid.add_legend()\n",
    "plt.show()"
   ]
  },
  {
   "cell_type": "code",
   "execution_count": 35,
   "id": "8029ec7f",
   "metadata": {},
   "outputs": [
    {
     "data": {
      "image/png": "[encoded data removed]",
      "text/plain": [
       "<Figure size 810.625x216 with 3 Axes>"
      ]
     },
     "metadata": {
      "needs_background": "light"
     },
     "output_type": "display_data"
    }
   ],
   "source": [
    "# There appears to be an early effort to vaccinate the middle-aged and elderly\n",
    "# Vaccination of young adults began in earnest in the middle of the time frame and peaked \n",
    "# after the other ages peaked\n",
    "\n",
    "# All age groups had a steep drop in vaccinations at around month 6\n",
    "\n",
    "grid = sns.FacetGrid(sum_df, col='state')\n",
    "grid.map(sns.lineplot, 'month', 'young_adults_vaccinated', label='young_adults_vaccinated', color='red')\n",
    "grid.map(sns.lineplot, 'month', 'midaged_vaccinated', label='midaged_vaccinated', color='blue')\n",
    "grid.map(sns.lineplot, 'month', 'elderly_vaccinated', label='elderly_vaccinated', color='yellow')\n",
    "grid.add_legend()\n",
    "plt.show()"
   ]
  },
  {
   "cell_type": "code",
   "execution_count": 36,
   "id": "e40fa719",
   "metadata": {},
   "outputs": [
    {
     "data": {
      "image/png": "[encoded data removed]",
      "text/plain": [
       "<Figure size 783.5x216 with 3 Axes>"
      ]
     },
     "metadata": {
      "needs_background": "light"
     },
     "output_type": "display_data"
    }
   ],
   "source": [
    "# Vaccination by gender is two overlapping straight lines\n",
    "# The lines may be straight because of how the vaccines were procured\n",
    "# The lines may be overlapping because of a effort towards gender equity\n",
    "\n",
    "grid = sns.FacetGrid(sum_df, col='state')\n",
    "grid.map(sns.lineplot, 'month', 'males_vaccinated', label='males_vaccinated', color='red')\n",
    "grid.map(sns.lineplot, 'month', 'females_vaccinated', label='females_vaccinated', color='blue')\n",
    "grid.add_legend()\n",
    "plt.show()"
   ]
  },
  {
   "cell_type": "markdown",
   "id": "709980c6",
   "metadata": {},
   "source": [
    "### A cycical pattern can't be seen in this time-frame\n",
    "### Time-series forecasting methods should not be used with this dataset"
   ]
  },
  {
   "cell_type": "code",
   "execution_count": 37,
   "id": "a8bfdce2",
   "metadata": {},
   "outputs": [
    {
     "data": {
      "text/plain": [
       "((15780, 14), (6763, 14), (5636, 14))"
      ]
     },
     "execution_count": 37,
     "metadata": {},
     "output_type": "execute_result"
    }
   ],
   "source": [
    "def data_split(df):\n",
    "    '''\n",
    "    This function takes in a dataframe, the name of the target variable\n",
    "    (for stratification purposes), and an integer for a setting a seed\n",
    "    and splits the data into train, validate and test. \n",
    "    Test is 20% of the original dataset, validate is .30*.80= 24% of the \n",
    "    original dataset, and train is .70*.80= 56% of the original dataset. \n",
    "    The function returns, in this order, train, validate and test dataframes. \n",
    "    '''\n",
    "    train_validate, test = train_test_split(df, test_size=0.2, \n",
    "                                            random_state=123, \n",
    "                                            stratify = df.month)\n",
    "    train, validate = train_test_split(train_validate, test_size=0.3, \n",
    "                                       random_state=123,\n",
    "                                       stratify=train_validate.month)\n",
    "    return train, validate, test\n",
    "\n",
    "# I am stratifying the split across time, because time influences most features\n",
    "train, validate, test = data_split(sum_df)\n",
    "train.shape, validate.shape, test.shape"
   ]
  },
  {
   "cell_type": "code",
   "execution_count": 38,
   "id": "db69d4bf",
   "metadata": {},
   "outputs": [
    {
     "data": {
      "image/png": "[encoded data removed]",
      "text/plain": [
       "<Figure size 720x720 with 4 Axes>"
      ]
     },
     "metadata": {
      "needs_background": "light"
     },
     "output_type": "display_data"
    }
   ],
   "source": [
    "# Examine the effects of state on patient outcome\n",
    "\n",
    "# Increase the size of the figure to prevent overlapping\n",
    "plt.figure(figsize=(10, 10))\n",
    "\n",
    "plt.subplot(4, 1, 1) # <- row, columns, index\n",
    "sns.boxplot( x = train.state, y = train.cured)\n",
    "plt.xlabel('State')\n",
    "plt.ylabel('Cured')\n",
    "\n",
    "plt.subplot(4, 1, 2)\n",
    "sns.boxplot( x = train.state, y = train.deaths)\n",
    "plt.xlabel('State')\n",
    "plt.ylabel('Deaths')\n",
    "\n",
    "plt.subplot(4, 1, 3)\n",
    "sns.boxplot( x = train.state, y = train.total_doses)\n",
    "plt.xlabel('State')\n",
    "plt.ylabel('Total Doses')\n",
    "\n",
    "plt.subplot(4, 1, 4)\n",
    "sns.boxplot( x = train.state, y = train.AEFI)\n",
    "plt.xlabel('State')\n",
    "plt.ylabel('AEFI')\n",
    "\n",
    "plt.show()"
   ]
  },
  {
   "cell_type": "code",
   "execution_count": 40,
   "id": "cff31dac",
   "metadata": {},
   "outputs": [
    {
     "data": {
      "image/png": "[encoded data removed]",
      "text/plain": [
       "<Figure size 864x288 with 1 Axes>"
      ]
     },
     "metadata": {
      "needs_background": "light"
     },
     "output_type": "display_data"
    },
    {
     "data": {
      "image/png": "[encoded data removed]",
      "text/plain": [
       "<Figure size 864x288 with 1 Axes>"
      ]
     },
     "metadata": {
      "needs_background": "light"
     },
     "output_type": "display_data"
    },
    {
     "data": {
      "image/png": "[encoded data removed]",
      "text/plain": [
       "<Figure size 864x288 with 1 Axes>"
      ]
     },
     "metadata": {
      "needs_background": "light"
     },
     "output_type": "display_data"
    },
    {
     "data": {
      "image/png": "[encoded data removed]",
      "text/plain": [
       "<Figure size 864x288 with 1 Axes>"
      ]
     },
     "metadata": {
      "needs_background": "light"
     },
     "output_type": "display_data"
    },
    {
     "data": {
      "image/png": "[encoded data removed]",
      "text/plain": [
       "<Figure size 864x288 with 1 Axes>"
      ]
     },
     "metadata": {
      "needs_background": "light"
     },
     "output_type": "display_data"
    },
    {
     "data": {
      "image/png": "[encoded data removed]",
      "text/plain": [
       "<Figure size 864x288 with 1 Axes>"
      ]
     },
     "metadata": {
      "needs_background": "light"
     },
     "output_type": "display_data"
    },
    {
     "data": {
      "image/png": "[encoded data removed]",
      "text/plain": [
       "<Figure size 864x288 with 1 Axes>"
      ]
     },
     "metadata": {
      "needs_background": "light"
     },
     "output_type": "display_data"
    },
    {
     "data": {
      "image/png": "[encoded data removed]",
      "text/plain": [
       "<Figure size 864x288 with 1 Axes>"
      ]
     },
     "metadata": {
      "needs_background": "light"
     },
     "output_type": "display_data"
    },
    {
     "data": {
      "image/png": "[encoded data removed]",
      "text/plain": [
       "<Figure size 864x288 with 1 Axes>"
      ]
     },
     "metadata": {
      "needs_background": "light"
     },
     "output_type": "display_data"
    },
    {
     "data": {
      "image/png": "[encoded data removed]",
      "text/plain": [
       "<Figure size 864x288 with 1 Axes>"
      ]
     },
     "metadata": {
      "needs_background": "light"
     },
     "output_type": "display_data"
    },
    {
     "data": {
      "image/png": "[encoded data removed]",
      "text/plain": [
       "<Figure size 864x288 with 1 Axes>"
      ]
     },
     "metadata": {
      "needs_background": "light"
     },
     "output_type": "display_data"
    },
    {
     "data": {
      "image/png": "[encoded data removed]",
      "text/plain": [
       "<Figure size 864x288 with 1 Axes>"
      ]
     },
     "metadata": {
      "needs_background": "light"
     },
     "output_type": "display_data"
    },
    {
     "data": {
      "image/png": "[encoded data removed]",
      "text/plain": [
       "<Figure size 864x288 with 1 Axes>"
      ]
     },
     "metadata": {
      "needs_background": "light"
     },
     "output_type": "display_data"
    },
    {
     "data": {
      "image/png": "[encoded data removed]",
      "text/plain": [
       "<Figure size 864x288 with 1 Axes>"
      ]
     },
     "metadata": {
      "needs_background": "light"
     },
     "output_type": "display_data"
    }
   ],
   "source": [
    "# Examine the effects of state on other columns\n",
    "for col in sum_df.columns:\n",
    "    plt.figure(figsize=(12,4))\n",
    "    sns.boxplot( x = train.state, y = train[col])\n",
    "    plt.ylabel('State')\n",
    "    plt.title(col)\n",
    "    plt.show()"
   ]
  },
  {
   "cell_type": "code",
   "execution_count": null,
   "id": "b4dbeb80",
   "metadata": {},
   "outputs": [],
   "source": [
    "# Examine the combined effects of state and total_doses on AEFI\n",
    "\n",
    "# Delhi is bad at infection spread and AEFI\n",
    "\n",
    "# Tamil Nadu is bad at infection spread and good at preventing AEFI\n",
    "\n",
    "# Madhy Pradesh is good at limiting infection spread but bad at AEFI\n",
    "\n",
    "grid = sns.FacetGrid(train, col='state')\n",
    "grid.map(sns.lineplot, 'total_doses', 'AEFI')\n",
    "grid.add_legend()\n",
    "plt.show()"
   ]
  },
  {
   "cell_type": "code",
   "execution_count": null,
   "id": "f4f43594",
   "metadata": {},
   "outputs": [],
   "source": [
    "# Examine the proportions of vaccine types in each state\n",
    "\n",
    "# In terms of doses administered:\n",
    "# covishield >> covaxin > sputnik\n",
    "\n",
    "# The ratio of vaccine types appears to be the same across states\n",
    "\n",
    "grid = sns.FacetGrid(train, col='state')\n",
    "grid.map(sns.lineplot, 'total_doses', 'covaxin', label='covaxin', color='red')\n",
    "grid.map(sns.lineplot, 'total_doses', 'covishield', label='covishield', color='blue')\n",
    "grid.map(sns.lineplot, 'total_doses', 'sputnik', label='sputnik', color='yellow')\n",
    "grid.add_legend()\n",
    "plt.show()"
   ]
  },
  {
   "cell_type": "code",
   "execution_count": null,
   "id": "b6fb3a70",
   "metadata": {},
   "outputs": [],
   "source": [
    "# The shape of the curves appears similar across states,\n",
    "# the stretching of the curves is due to the different amounts of doses\n",
    "# administered in different states\n",
    "\n",
    "grid = sns.FacetGrid(train, col='state')\n",
    "grid.map(sns.lineplot, 'covaxin', 'AEFI', label='covaxin', color='red')\n",
    "grid.map(sns.lineplot, 'covishield', 'AEFI', label='covishield', color='blue')\n",
    "grid.map(sns.lineplot, 'sputnik', 'AEFI', label='sputnik', color='yellow')\n",
    "grid.add_legend()\n",
    "plt.show()"
   ]
  },
  {
   "cell_type": "code",
   "execution_count": null,
   "id": "3f080fa9",
   "metadata": {},
   "outputs": [],
   "source": [
    "# 'cured' has the best correlation with 'deaths'\n",
    "# Surprisingly, the correlation is positive\n",
    "# This may be because cured is dependent on the number of people infected\n",
    "# More infections means more deaths\n",
    "\n",
    "# 'covaxin' has the highest correlation value with AEFI, even higher than 'total_doses'\n",
    "\n",
    "train.corr()"
   ]
  },
  {
   "cell_type": "code",
   "execution_count": null,
   "id": "606b6cec",
   "metadata": {},
   "outputs": [],
   "source": [
    "sns.pairplot(train, hue='state')"
   ]
  },
  {
   "cell_type": "markdown",
   "id": "1b5ec940",
   "metadata": {},
   "source": [
    "### Statistical Testing"
   ]
  },
  {
   "cell_type": "markdown",
   "id": "b3707769",
   "metadata": {},
   "source": [
    "H0 = state is not correlated to AEFI <br>\n",
    "Ha = state is correlated to AEFI <br>\n",
    "We reject H0"
   ]
  },
  {
   "cell_type": "code",
   "execution_count": null,
   "id": "97ccbd58",
   "metadata": {},
   "outputs": [],
   "source": [
    "r, p = pearsonr(train.state, train.AEFI)\n",
    "r,p"
   ]
  },
  {
   "cell_type": "markdown",
   "id": "34b19603",
   "metadata": {},
   "source": [
    "H0 = state does not influence cured <br>\n",
    "Ha = state does influence cured <br>\n",
    "We reject H0"
   ]
  },
  {
   "cell_type": "code",
   "execution_count": null,
   "id": "4c835bda",
   "metadata": {},
   "outputs": [],
   "source": [
    "r, p = pearsonr(train.state, train.cured)\n",
    "r,p"
   ]
  },
  {
   "cell_type": "markdown",
   "id": "45890155",
   "metadata": {},
   "source": [
    "H0 = state does not influence deaths <br>\n",
    "Ha = state does influence deaths <br>\n",
    "We reject H0"
   ]
  },
  {
   "cell_type": "code",
   "execution_count": null,
   "id": "0ea34b4c",
   "metadata": {},
   "outputs": [],
   "source": [
    "r, p = pearsonr(train.state, train.deaths)\n",
    "r,p"
   ]
  },
  {
   "cell_type": "markdown",
   "id": "9c51d697",
   "metadata": {},
   "source": [
    "H0 = total_doses does not influence deaths <br>\n",
    "Ha = total_doses does influence deaths <br>\n",
    "We reject H0"
   ]
  },
  {
   "cell_type": "code",
   "execution_count": null,
   "id": "a85aa971",
   "metadata": {},
   "outputs": [],
   "source": [
    "r, p = pearsonr(train.total_doses, train.deaths)\n",
    "r,p"
   ]
  },
  {
   "cell_type": "markdown",
   "id": "a521fd1f",
   "metadata": {},
   "source": [
    "### Statistical Testing of Vaccine Type and AEFI\n",
    "In addition, tests showed that all vaccine types influenced AEFI, but I cannot tell if this is due more to the limits of this experimental design rather than any real effects. <br> <br>\n",
    "The proportion of the vaccine types being used was inter-related, thus the amount of a single vaccine type being administered correlates with the total amount of all vaccine types being administered. <br> <br>\n",
    "As the total amount of administered vaccines increases, one would also expect the AEFI to increase. <br> <br>\n",
    "The lack of a unique identifier connecting patient outcome and vaccination type limits what I can test statistically. <br> <br>\n",
    "Therefore, I am not including the tests for vaccine types on AEFI."
   ]
  },
  {
   "cell_type": "markdown",
   "id": "65339671",
   "metadata": {},
   "source": [
    "### Takeaways from Explore\n",
    "- Although data is time-series, a repeating pattern can't be found within this time-frame\n",
    "- State influences cured, deaths, and AEFI\n",
    "- cured strongly correlates to deaths, because more infected means both more cured and more deaths\n",
    "- AEFI may be related to total_doses, this relationship differs by state\n",
    "- Some daily values have limited use because of different reporting procedures for different clinics (I assume), this may be addressed by resampling by month\n",
    "#### Best/Worst practices may be learned by examining differences between states"
   ]
  },
  {
   "cell_type": "markdown",
   "id": "41b8ec6d",
   "metadata": {},
   "source": [
    "# Model"
   ]
  },
  {
   "cell_type": "code",
   "execution_count": null,
   "id": "b9da678f",
   "metadata": {},
   "outputs": [],
   "source": [
    "# I will examine the effects of 'state' on 'AEFI'\n",
    "# I am choosing this target because we have little control over infection spread,\n",
    "# but we have great control over circumstances leading to AEFI such as:\n",
    "# brand of vaccine, age of vaccinated, health/economic status of vaccinated, etc.\n",
    "# Vaccination protocols can be improved to reduce AEFI\n",
    "\n",
    "# Dropping the target from the other features\n",
    "X_train = train.drop(columns='AEFI') \n",
    "X_validate = validate.drop(columns='AEFI')\n",
    "X_test = test.drop(columns='AEFI')\n",
    "\n",
    "# Creating a set containing the target\n",
    "y_train = train.AEFI\n",
    "y_validate = validate.AEFI\n",
    "y_test = test.AEFI\n",
    "\n",
    "X_train.head()"
   ]
  },
  {
   "cell_type": "code",
   "execution_count": null,
   "id": "b83a6613",
   "metadata": {},
   "outputs": [],
   "source": [
    "y_train.head()"
   ]
  },
  {
   "cell_type": "code",
   "execution_count": null,
   "id": "c720655a",
   "metadata": {},
   "outputs": [],
   "source": [
    "# Checking size of df's for predictors and targets\n",
    "X_train.shape, X_validate.shape, X_test.shape, y_train.shape, y_validate.shape, y_test.shape"
   ]
  },
  {
   "cell_type": "code",
   "execution_count": null,
   "id": "4d620377",
   "metadata": {},
   "outputs": [],
   "source": [
    "# Scale the predictive features, but not the target\n",
    "\n",
    "scaler = StandardScaler()\n",
    "X_train = scaler.fit_transform(X_train)\n",
    "X_validate = scaler.transform(X_validate)\n",
    "X_test = scaler.transform(X_test)"
   ]
  },
  {
   "cell_type": "code",
   "execution_count": null,
   "id": "b8dbb7b1",
   "metadata": {},
   "outputs": [],
   "source": [
    "X_train"
   ]
  },
  {
   "cell_type": "code",
   "execution_count": null,
   "id": "14259771",
   "metadata": {},
   "outputs": [],
   "source": [
    "# X_train and y_train were turned into np arrays, so turn them into pd dataframes\n",
    "\n",
    "X_train = pd.DataFrame(X_train, columns = ['state', 'cured', 'deaths', 'month', 'total_doses', 'covaxin', 'covishield', 'sputnik'])\n",
    "X_validate = pd.DataFrame(X_validate, columns = ['state', 'cured', 'deaths', 'month', 'total_doses', 'covaxin', 'covishield', 'sputnik'])\n",
    "X_test = pd.DataFrame(X_test, columns = ['state', 'cured', 'deaths', 'month', 'total_doses', 'covaxin', 'covishield', 'sputnik'])\n",
    "\n",
    "X_train.head()"
   ]
  },
  {
   "cell_type": "code",
   "execution_count": null,
   "id": "eab06d42",
   "metadata": {},
   "outputs": [],
   "source": [
    "# Convert y into dataframes\n",
    "y_train = pd.DataFrame(y_train)\n",
    "y_validate = pd.DataFrame(y_validate)\n",
    "y_test = pd.DataFrame(y_test)\n",
    "\n",
    "y_train.head()"
   ]
  },
  {
   "cell_type": "markdown",
   "id": "f4bd198e",
   "metadata": {},
   "source": [
    "### Mean Baseline"
   ]
  },
  {
   "cell_type": "code",
   "execution_count": null,
   "id": "7dddc97a",
   "metadata": {},
   "outputs": [],
   "source": [
    "# Create a mean baseline\n",
    "AEFI_mean = y_train.AEFI.mean()\n",
    "y_train['AEFI_pred_mean'] = AEFI_mean\n",
    "y_validate['AEFI_pred_mean'] = AEFI_mean\n",
    "y_test['AEFI_pred_mean'] = AEFI_mean\n",
    "\n",
    "y_train.head()"
   ]
  },
  {
   "cell_type": "code",
   "execution_count": null,
   "id": "296ca67d",
   "metadata": {},
   "outputs": [],
   "source": [
    "# RMSE of AEFI_pred_mean\n",
    "rmse_train = mean_squared_error(y_train.AEFI,\n",
    "                                y_train.AEFI_pred_mean) ** .5\n",
    "rmse_validate = mean_squared_error(y_validate.AEFI, \n",
    "                                   y_validate.AEFI_pred_mean) ** (1/2)\n",
    "\n",
    "print(\"RMSE using Mean\\nTrain/In-Sample: \", round(rmse_train, 2), \n",
    "      \"\\nValidate/Out-of-Sample: \", round(rmse_validate, 2))"
   ]
  },
  {
   "cell_type": "code",
   "execution_count": null,
   "id": "aa0c540a",
   "metadata": {},
   "outputs": [],
   "source": [
    "# Make a table comparing metrics from the different models\n",
    "def make_metric_df(y, y_pred, model_name, metric_df):\n",
    "    if metric_df.size ==0:\n",
    "        metric_df = pd.DataFrame(data=[\n",
    "            {\n",
    "                'model': model_name, \n",
    "                'RMSE_validate': mean_squared_error(\n",
    "                    y,\n",
    "                    y_pred) ** .5,\n",
    "                'r^2_validate': explained_variance_score(\n",
    "                    y,\n",
    "                    y_pred)\n",
    "            }])\n",
    "        return metric_df\n",
    "    else:\n",
    "        return metric_df.append(\n",
    "            {\n",
    "                'model': model_name, \n",
    "                'RMSE_validate': mean_squared_error(\n",
    "                    y,\n",
    "                    y_pred) ** .5,\n",
    "                'r^2_validate': explained_variance_score(\n",
    "                    y,\n",
    "                    y_pred)\n",
    "            }, ignore_index=True)"
   ]
  },
  {
   "cell_type": "code",
   "execution_count": null,
   "id": "d8e55fa0",
   "metadata": {},
   "outputs": [],
   "source": [
    "# Create the metric_df as a blank dataframe\n",
    "metric_df = pd.DataFrame()\n",
    "\n",
    "# Make our first entry into the metric_df with median baseline\n",
    "metric_df = make_metric_df(y_train.AEFI, y_train.AEFI_pred_mean, 'Mean Baseline', metric_df)"
   ]
  },
  {
   "cell_type": "markdown",
   "id": "f93dda08",
   "metadata": {},
   "source": [
    "### Linear Regression (OLS) Model"
   ]
  },
  {
   "cell_type": "code",
   "execution_count": null,
   "id": "c2ebd573",
   "metadata": {},
   "outputs": [],
   "source": [
    "# Linear regression, OLS\n",
    "\n",
    "# Create the object\n",
    "lm = LinearRegression(normalize=True)\n",
    "\n",
    "# Fit the object\n",
    "lm.fit(X_train, y_train.AEFI)\n",
    "\n",
    "# Use the object\n",
    "# Store predicted target values from linear model in new column\n",
    "y_train['AEFI_pred_lm'] = lm.predict(X_train)\n",
    "\n",
    "# Calculate RMSE for train\n",
    "rmse_train = mean_squared_error(y_train.AEFI, y_train.AEFI_pred_lm) ** (1/2)\n",
    "\n",
    "# Store predicted target values from linear model in new column\n",
    "y_validate['AEFI_pred_lm'] = lm.predict(X_validate)\n",
    "\n",
    "# Calculate RMSE for validate\n",
    "rmse_validate = mean_squared_error(y_validate.AEFI, y_validate.AEFI_pred_lm) ** (1/2)\n",
    "\n",
    "print(\"RMSE for LinearRegression(OLS)\\nTraining/In-Sample: \", rmse_train, \n",
    "      \"\\nValidation/Out-of-Sample: \", rmse_validate)"
   ]
  },
  {
   "cell_type": "code",
   "execution_count": null,
   "id": "9e002a56",
   "metadata": {},
   "outputs": [],
   "source": [
    "# Add the linear model RMSE and R^2 values to metric_df\n",
    "metric_df = metric_df.append({\n",
    "    'model': 'Linear Regression (OLS)', \n",
    "    'RMSE_validate': rmse_validate,\n",
    "    'r^2_validate': explained_variance_score(y_validate.AEFI, y_validate.AEFI_pred_lm)}, ignore_index=True)"
   ]
  },
  {
   "cell_type": "markdown",
   "id": "cf869b05",
   "metadata": {},
   "source": [
    "### LassLars Model"
   ]
  },
  {
   "cell_type": "code",
   "execution_count": null,
   "id": "88b7046b",
   "metadata": {},
   "outputs": [],
   "source": [
    "# Create the object\n",
    "lars = LassoLars(alpha=1)\n",
    "\n",
    "# Fit the object \n",
    "# We must specify the column in y_train, \n",
    "# because we have converted it to a dataframe from a series\n",
    "lars.fit(X_train, y_train.AEFI)\n",
    "\n",
    "# Use the object\n",
    "# Store predicted target values from LassoLars in new column\n",
    "y_train['AEFI_pred_lars'] = lars.predict(X_train)\n",
    "\n",
    "# Calculate RMSE for train\n",
    "rmse_train = mean_squared_error(y_train.AEFI, y_train.AEFI_pred_lars) ** (1/2)\n",
    "\n",
    "# Store predicted target values from LassoLars in new column\n",
    "y_validate['AEFI_pred_lars'] = lars.predict(X_validate)\n",
    "\n",
    "# Calculate RMSE for validate\n",
    "rmse_validate = mean_squared_error(y_validate.AEFI, y_validate.AEFI_pred_lars) ** (1/2)\n",
    "\n",
    "print(\"RMSE for Lasso + Lars\\nTraining/In-Sample: \", rmse_train, \n",
    "      \"\\nValidation/Out-of-Sample: \", rmse_validate)"
   ]
  },
  {
   "cell_type": "code",
   "execution_count": null,
   "id": "99be56ae",
   "metadata": {},
   "outputs": [],
   "source": [
    "# Add the LassoLars model RMSE and R^2 values to metric_df\n",
    "metric_df = make_metric_df(y_validate.AEFI,\n",
    "               y_validate.AEFI_pred_lars,\n",
    "               'LassoLars',\n",
    "               metric_df)"
   ]
  },
  {
   "cell_type": "markdown",
   "id": "7c02b524",
   "metadata": {},
   "source": [
    "### Generalized Linear Model"
   ]
  },
  {
   "cell_type": "code",
   "execution_count": null,
   "id": "9c974c13",
   "metadata": {},
   "outputs": [],
   "source": [
    "# Create the object\n",
    "glm = TweedieRegressor(power=1, alpha=0)\n",
    "\n",
    "\n",
    "# Fit the object \n",
    "# We must specify the column in y_train, \n",
    "# becuase we  converted it to a dataframe from a series\n",
    "glm.fit(X_train, y_train.AEFI)\n",
    "\n",
    "# Use the object\n",
    "# Store predicted target values from GLM in new column\n",
    "y_train['AEFI_pred_glm'] = glm.predict(X_train)\n",
    "\n",
    "# Calculate RMSE for train\n",
    "rmse_train = mean_squared_error(y_train.AEFI, y_train.AEFI_pred_glm) ** (1/2)\n",
    "\n",
    "# Store predicted target values from GLM in new column\n",
    "y_validate['AEFI_pred_glm'] = glm.predict(X_validate)\n",
    "\n",
    "# Calculate RMSE for validate\n",
    "rmse_validate = mean_squared_error(y_validate.AEFI, y_validate.AEFI_pred_glm) ** (1/2)\n",
    "\n",
    "print(\"RMSE for GLM using Tweedie\\nTraining/In-Sample: \", rmse_train, \n",
    "      \"\\nValidation/Out-of-Sample: \", rmse_validate)"
   ]
  },
  {
   "cell_type": "code",
   "execution_count": null,
   "id": "715c2166",
   "metadata": {},
   "outputs": [],
   "source": [
    "# Add the GLM model RMSE and R^2 values to metric_df\n",
    "metric_df = make_metric_df(y_validate.AEFI, \n",
    "                           y_validate.AEFI_pred_glm, \n",
    "                           'GLM', \n",
    "                           metric_df)\n",
    "\n",
    "metric_df"
   ]
  },
  {
   "cell_type": "markdown",
   "id": "05f28424",
   "metadata": {},
   "source": [
    "### The Generalized Linear Model is the best performing model according to RMSE and R^2"
   ]
  },
  {
   "cell_type": "code",
   "execution_count": null,
   "id": "79cc5321",
   "metadata": {},
   "outputs": [],
   "source": [
    "# Store predicted target values from GLM in new column\n",
    "y_test['AEFI_pred_glm'] = glm.predict(X_test)\n",
    "\n",
    "# Calculate RMSE for validate\n",
    "rmse_test = mean_squared_error(y_test.AEFI, y_test.AEFI_pred_glm) ** (1/2)\n",
    "\n",
    "print(\"RMSE for GLM using Tweedie\\nTraining/In-Sample: \", rmse_train, \n",
    "      \"\\nValidation/Out-of-Sample: \", rmse_validate)"
   ]
  },
  {
   "cell_type": "code",
   "execution_count": null,
   "id": "f9b7f804",
   "metadata": {},
   "outputs": [],
   "source": [
    "# Add the GLM model RMSE and R^2 values to metric_df\n",
    "metric_df = make_metric_df(y_test.AEFI, \n",
    "                           y_test.AEFI_pred_glm, \n",
    "                           'GLM on Test Dataset', \n",
    "                           metric_df)\n",
    "\n",
    "metric_df"
   ]
  },
  {
   "cell_type": "markdown",
   "id": "bd44e16a",
   "metadata": {},
   "source": [
    "### The Generalized Linear Model performs well on the test dataset\n",
    "### This model outperforms the mean baseline and the other models"
   ]
  },
  {
   "cell_type": "markdown",
   "id": "4a0d9718",
   "metadata": {},
   "source": [
    "# Conclusion\n",
    "The different states in India have great influence on:\n",
    "- the amount of people who survived from Covid\n",
    "- the amount of people who died from Covid\n",
    "- the amount of adverse reactions from Covid vaccines\n",
    "<br> <br>\n",
    "The plots for cured mirrored the plots for deaths, implying the the number of cured and deaths recorded was mostly dependent on the spread of infection rather than treatment type <br> <br>\n",
    "It could not be determined with this dataset why State had such impact on adverse reactions to vaccines. <br>\n",
    "Drawing such conclusions may require a dataset with a unique identifier tying patient outcome to vaccination status <br> <br>\n",
    "### This work is important because it identifies states with best/worst practices, which can be used to improve vaccine protocols.\n",
    "### The implementation of best practices can enable vaccination with lower AEFI."
   ]
  },
  {
   "cell_type": "markdown",
   "id": "9f4cb919",
   "metadata": {},
   "source": [
    "# Future Work\n",
    "If I had more time, I would add other features from the dataset including: <br>\n",
    "gender, age bracket, total_individuals_vaccinated / total_doses_administered <br> <br>\n",
    "I would also like to find a dataset with unique identifiers tying patient outcome to vaccination information"
   ]
  },
  {
   "cell_type": "code",
   "execution_count": null,
   "id": "37bc11b4",
   "metadata": {},
   "outputs": [],
   "source": []
  },
  {
   "cell_type": "code",
   "execution_count": null,
   "id": "fd53568f",
   "metadata": {},
   "outputs": [],
   "source": []
  },
  {
   "cell_type": "code",
   "execution_count": null,
   "id": "df24ac1d",
   "metadata": {},
   "outputs": [],
   "source": []
  },
  {
   "cell_type": "code",
   "execution_count": null,
   "id": "fb59102d",
   "metadata": {},
   "outputs": [],
   "source": []
  },
  {
   "cell_type": "code",
   "execution_count": null,
   "id": "e338b0e9",
   "metadata": {},
   "outputs": [],
   "source": []
  },
  {
   "cell_type": "code",
   "execution_count": null,
   "id": "1518cd00",
   "metadata": {},
   "outputs": [],
   "source": []
  },
  {
   "cell_type": "code",
   "execution_count": null,
   "id": "6f85784e",
   "metadata": {},
   "outputs": [],
   "source": []
  },
  {
   "cell_type": "code",
   "execution_count": null,
   "id": "e7dcb2e3",
   "metadata": {},
   "outputs": [],
   "source": []
  },
  {
   "cell_type": "code",
   "execution_count": null,
   "id": "556a2849",
   "metadata": {},
   "outputs": [],
   "source": []
  }
 ],
 "metadata": {
  "kernelspec": {
   "display_name": "Python 3",
   "language": "python",
   "name": "python3"
  },
  "language_info": {
   "codemirror_mode": {
    "name": "ipython",
    "version": 3
   },
   "file_extension": ".py",
   "mimetype": "text/x-python",
   "name": "python",
   "nbconvert_exporter": "python",
   "pygments_lexer": "ipython3",
   "version": "3.8.8"
  }
 },
 "nbformat": 4,
 "nbformat_minor": 5
}
