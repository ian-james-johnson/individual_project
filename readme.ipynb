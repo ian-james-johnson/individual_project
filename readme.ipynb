{
 "cells": [
  {
   "cell_type": "markdown",
   "id": "c41eb978",
   "metadata": {},
   "source": [
    "# An Examination of Vaccination and Covid-19  in India"
   ]
  },
  {
   "cell_type": "markdown",
   "id": "be7e2cc1",
   "metadata": {},
   "source": [
    "# How to Recreate this Work\n",
    "Data files can be found at the following link: <br>\n",
    "https://www.kaggle.com/sudalairajkumar/covid19-in-india?select=covid_19_india.csv <br>\n",
    "Download the following csv's: <br>\n",
    "covid_19_india.csv <br>\n",
    "covid_vaccine_statewise.csv <br>\n",
    "The csv's are also available in the github repository. <br> <br>\n",
    "From github copy: <br>\n",
    "covid_india_project_final.ipynb <br>\n",
    "helper_file.py <br> \n",
    "Github repository link:<br>\n",
    "https://github.com/ian-james-johnson/individual_project <br> <br>\n",
    "All files should be placed in the same directory. <br>\n",
    "Open the jupyter notebook. <br>\n",
    "In the drop-down menu; select 'Cell' and then 'Run All'"
   ]
  },
  {
   "cell_type": "markdown",
   "id": "0f9a570a",
   "metadata": {},
   "source": [
    "# Executive Summary\n",
    "### Problem: \n",
    "Covid-19 is causing great harm to India.\n",
    "### Solution: \n",
    "Analysis of Covid-19 data across states can identify best/worst responding states, which can be used to improve vaccination, treatment, and prevention protocols. <br> <br>\n",
    "What one state is doing right can be transferred to other states. <br> <br>\n",
    "What one state is doing wrong can be prevented in other states.\n",
    "### Key Findings:\n",
    "The state in India has tremendous impact on the number of people cured of Covid-19, the number of people killed by Covid-19, and the number of adverse reactions to vaccines (AEFI). <br> <br>\n",
    "Of the three states examined: <br>\n",
    "- Delhi is poor at infection spread and AEFI\n",
    "- Tamil Nadu is poor at infection spread and good at preventing AEFI\n",
    "- Madhy Pradesh is good at limiting infection spread but poor at AEFI"
   ]
  },
  {
   "cell_type": "markdown",
   "id": "6f8db811",
   "metadata": {},
   "source": [
    "# Data Source"
   ]
  },
  {
   "cell_type": "markdown",
   "id": "41d08a38",
   "metadata": {},
   "source": [
    "Covid-19 in India <br>\n",
    "Dataset on Novel Corona Virus Disease 2019 in India <br>\n",
    "Author: Sudalairaj Kumar <br>\n",
    "Data acquired from Kaggle: <br>\n",
    "https://www.kaggle.com/sudalairajkumar/covid19-in-india?select=covid_19_india.csv <br>\n",
    "<br>\n",
    "Files acquired:\n",
    "- covid_19_india.csv\n",
    "- covid_vaccine_statewise.csv\n",
    "- StatewiseTestingDetails.csv"
   ]
  },
  {
   "cell_type": "markdown",
   "id": "b4f06923",
   "metadata": {},
   "source": [
    "# Data Dictionary\n",
    "- state: the state in which observations were recorded.\n",
    "- date: the date at which observations were reported (not necessarily when observations occurred).\n",
    "- cured: the reported number of patients cured of Covid-19.\n",
    "- deaths: the reported number of patients killed by Covid-19.\n",
    "- total_doses: the total doses of all Covid-19 vaccines administered.\n",
    "- covaxin: the doses of covaxin administered.\n",
    "- covishield: the doses of covishield administered.\n",
    "- sputnik: the doses of sputnik administered.\n",
    "- AEFI: the reported number of adverse reactions to Covid-19 vaccines.\n",
    "- young_adults_vaccinated: 18-44 yr olds vaccinated.\n",
    "- midaged_vaccinated: 45 yr olds vaccinated.\n",
    "- elderly_vaccinated: 60+ yr olds vaccinated.\n",
    "- males_vaccinated: number of males vaccinated.\n",
    "- females_vaccinated: number of females vaccinated."
   ]
  },
  {
   "cell_type": "code",
   "execution_count": null,
   "id": "b9a08126",
   "metadata": {},
   "outputs": [],
   "source": []
  }
 ],
 "metadata": {
  "kernelspec": {
   "display_name": "Python 3",
   "language": "python",
   "name": "python3"
  },
  "language_info": {
   "codemirror_mode": {
    "name": "ipython",
    "version": 3
   },
   "file_extension": ".py",
   "mimetype": "text/x-python",
   "name": "python",
   "nbconvert_exporter": "python",
   "pygments_lexer": "ipython3",
   "version": "3.8.8"
  }
 },
 "nbformat": 4,
 "nbformat_minor": 5
}
